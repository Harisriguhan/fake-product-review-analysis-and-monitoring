{
  "cells": [
    {
      "cell_type": "markdown",
      "metadata": {
        "id": "7MGyNaXDMc1W"
      },
      "source": [
        "# FAKE PRODUCT REVIEW, ANALYSIS AND MONITORING:\n",
        "\n",
        "## MODULE 1: Data Cleaning\n",
        "Data Cleaning: Data cleansing or data cleaning is the process of detecting and correcting (or removing) corrupt or inaccurate records from a record set, table, or database and refers to identifying incomplete, incorrect, inaccurate or irrelevant parts of the data and then replacing, modifying, or deleting the dirty or coarse data.\n",
        "## MODULE 2: Exploratory Data Analysis\n",
        "Exploratory Data Analysis: EDA is a phenomenon under data analysis used for gaining a better understanding of data aspects like:\n",
        "– main features of data\n",
        "– variables and relationships that hold between them\n",
        "– identifying which variables are important for our problem\n",
        "## MODULE 3: Corpus\n",
        "This module has three major functions which leads to the creation of the corpus and they are as follows.\n",
        "### Tokenization:\n",
        "It is done in order to view the possibilities of all the meaningful words the data is broken down into the words and phrases.\n",
        "### Stop-Word Elimination:\n",
        "Negative stop-words are identified with the help of text mining and are removed. This helps in speeding up the time when training and testing the model.\n",
        "### Stemming: \n",
        "All the words present in the input string will be reduced to its root form by removing any unwanted prefix or suffix in order to make the process more efficient.\n",
        "## MODULE 4: Feature Engineering\n",
        "Feature engineering is the extraction of data and converting them in a format where the machine learning model can understand.In Layman terms, it is the conversion of all the string values into numbers.\n",
        "### Bag of Words Model\n",
        "Its is used to count the number of induvidual words as well as their frequency, this is done to process NLP by storing these values in a Pandas Dataframe.\n",
        "### Dummy Variables\n",
        "Dummy variables are used to convert categorical data into a Numerical Dataframe.This dataframe is then added to the Bag of Words Model Dataframe to form the Final Dataset.\n",
        "## MODULE 5: Random Forest Classifier\n",
        "Random Forest Classifier: random forest is a meta estimator that fits a number of decision tree classifiers on various sub-samples of the dataset and uses averaging to improve the predictive accuracy and control over-fitting."
      ]
    },
    {
      "cell_type": "code",
      "execution_count": null,
      "metadata": {
        "id": "iDvC3J6mMc1Z"
      },
      "outputs": [],
      "source": [
        "import numpy as np\n",
        "import nltk\n",
        "import string\n",
        "import bs4 as bs\n",
        "import re\n",
        "import pandas as pd\n",
        "import matplotlib as plt\n",
        "import seaborn as sns\n",
        "%matplotlib inline\n",
        "from nltk.tokenize import word_tokenize\n",
        "from nltk.stem import PorterStemmer,LancasterStemmer\n",
        "from nltk.corpus import stopwords\n",
        "from sklearn.feature_extraction.text import CountVectorizer,TfidfTransformer\n",
        "from sklearn.ensemble import RandomForestClassifier\n",
        "from sklearn.pipeline import Pipeline\n",
        "from sklearn.model_selection import train_test_split\n",
        "from sklearn.naive_bayes import MultinomialNB\n",
        "from sklearn.metrics import confusion_matrix,classification_report\n",
        "import ipywidgets as widgets\n",
        "from ipywidgets import interact, interact_manual"
      ]
    },
    {
      "cell_type": "code",
      "execution_count": null,
      "metadata": {
        "id": "ie_K8RrNMc1a",
        "outputId": "bd9aea58-6cdc-44db-e388-0c9e7defd067"
      },
      "outputs": [
        {
          "data": {
            "text/html": [
              "<div>\n",
              "<style scoped>\n",
              "    .dataframe tbody tr th:only-of-type {\n",
              "        vertical-align: middle;\n",
              "    }\n",
              "\n",
              "    .dataframe tbody tr th {\n",
              "        vertical-align: top;\n",
              "    }\n",
              "\n",
              "    .dataframe thead th {\n",
              "        text-align: right;\n",
              "    }\n",
              "</style>\n",
              "<table border=\"1\" class=\"dataframe\">\n",
              "  <thead>\n",
              "    <tr style=\"text-align: right;\">\n",
              "      <th></th>\n",
              "      <th>DOC_ID</th>\n",
              "      <th>LABEL</th>\n",
              "      <th>RATING</th>\n",
              "      <th>VERIFIED_PURCHASE</th>\n",
              "      <th>PRODUCT_CATEGORY</th>\n",
              "      <th>PRODUCT_ID</th>\n",
              "      <th>PRODUCT_TITLE</th>\n",
              "      <th>REVIEW_TITLE</th>\n",
              "      <th>REVIEW_TEXT</th>\n",
              "    </tr>\n",
              "  </thead>\n",
              "  <tbody>\n",
              "    <tr>\n",
              "      <th>0</th>\n",
              "      <td>1</td>\n",
              "      <td>Fake</td>\n",
              "      <td>4</td>\n",
              "      <td>N</td>\n",
              "      <td>PC</td>\n",
              "      <td>B00008NG7N</td>\n",
              "      <td>Targus PAUK10U Ultra Mini USB Keypad, Black</td>\n",
              "      <td>useful</td>\n",
              "      <td>When least you think so, this product will sav...</td>\n",
              "    </tr>\n",
              "    <tr>\n",
              "      <th>1</th>\n",
              "      <td>2</td>\n",
              "      <td>Fake</td>\n",
              "      <td>4</td>\n",
              "      <td>Y</td>\n",
              "      <td>Wireless</td>\n",
              "      <td>B00LH0Y3NM</td>\n",
              "      <td>Note 3 Battery : Stalion Strength Replacement ...</td>\n",
              "      <td>New era for batteries</td>\n",
              "      <td>Lithium batteries are something new introduced...</td>\n",
              "    </tr>\n",
              "    <tr>\n",
              "      <th>2</th>\n",
              "      <td>3</td>\n",
              "      <td>Fake</td>\n",
              "      <td>3</td>\n",
              "      <td>N</td>\n",
              "      <td>Baby</td>\n",
              "      <td>B000I5UZ1Q</td>\n",
              "      <td>Fisher-Price Papasan Cradle Swing, Starlight</td>\n",
              "      <td>doesn't swing very well.</td>\n",
              "      <td>I purchased this swing for my baby. She is 6 m...</td>\n",
              "    </tr>\n",
              "    <tr>\n",
              "      <th>3</th>\n",
              "      <td>4</td>\n",
              "      <td>Fake</td>\n",
              "      <td>4</td>\n",
              "      <td>N</td>\n",
              "      <td>Office Products</td>\n",
              "      <td>B003822IRA</td>\n",
              "      <td>Casio MS-80B Standard Function Desktop Calculator</td>\n",
              "      <td>Great computing!</td>\n",
              "      <td>I was looking for an inexpensive desk calcolat...</td>\n",
              "    </tr>\n",
              "    <tr>\n",
              "      <th>4</th>\n",
              "      <td>5</td>\n",
              "      <td>Fake</td>\n",
              "      <td>4</td>\n",
              "      <td>N</td>\n",
              "      <td>Beauty</td>\n",
              "      <td>B00PWSAXAM</td>\n",
              "      <td>Shine Whitening - Zero Peroxide Teeth Whitenin...</td>\n",
              "      <td>Only use twice a week</td>\n",
              "      <td>I only use it twice a week and the results are...</td>\n",
              "    </tr>\n",
              "  </tbody>\n",
              "</table>\n",
              "</div>"
            ],
            "text/plain": [
              "   DOC_ID LABEL  RATING VERIFIED_PURCHASE PRODUCT_CATEGORY  PRODUCT_ID  \\\n",
              "0       1  Fake       4                 N               PC  B00008NG7N   \n",
              "1       2  Fake       4                 Y         Wireless  B00LH0Y3NM   \n",
              "2       3  Fake       3                 N             Baby  B000I5UZ1Q   \n",
              "3       4  Fake       4                 N  Office Products  B003822IRA   \n",
              "4       5  Fake       4                 N           Beauty  B00PWSAXAM   \n",
              "\n",
              "                                       PRODUCT_TITLE  \\\n",
              "0        Targus PAUK10U Ultra Mini USB Keypad, Black   \n",
              "1  Note 3 Battery : Stalion Strength Replacement ...   \n",
              "2       Fisher-Price Papasan Cradle Swing, Starlight   \n",
              "3  Casio MS-80B Standard Function Desktop Calculator   \n",
              "4  Shine Whitening - Zero Peroxide Teeth Whitenin...   \n",
              "\n",
              "               REVIEW_TITLE                                        REVIEW_TEXT  \n",
              "0                    useful  When least you think so, this product will sav...  \n",
              "1     New era for batteries  Lithium batteries are something new introduced...  \n",
              "2  doesn't swing very well.  I purchased this swing for my baby. She is 6 m...  \n",
              "3          Great computing!  I was looking for an inexpensive desk calcolat...  \n",
              "4     Only use twice a week  I only use it twice a week and the results are...  "
            ]
          },
          "execution_count": 2,
          "metadata": {},
          "output_type": "execute_result"
        }
      ],
      "source": [
        "df=pd.read_excel(\"amazon_reviews.xlsx\")\n",
        "df.head()"
      ]
    },
    {
      "cell_type": "markdown",
      "metadata": {
        "id": "8Pfwp5n_Mc1b"
      },
      "source": [
        "# Module 1: Data Cleaning:\n",
        "\n",
        "Data Cleaning: Data cleansing or data cleaning is the process of detecting and correcting (or removing) corrupt or inaccurate records from a record set, table, or database and refers to identifying incomplete, incorrect, inaccurate or irrelevant parts of the data and then replacing, modifying, or deleting the dirty or coarse data.\n",
        "\n",
        "### Columns not used are removed:     \n",
        "1) Doc_ID      \n",
        "2) Product_Title          \n",
        "3) Review_ Title"
      ]
    },
    {
      "cell_type": "code",
      "execution_count": null,
      "metadata": {
        "id": "OkZ_MtZ-Mc1c"
      },
      "outputs": [],
      "source": [
        "del df['DOC_ID']\n",
        "del df['PRODUCT_TITLE']\n",
        "del df['REVIEW_TITLE']"
      ]
    },
    {
      "cell_type": "code",
      "execution_count": null,
      "metadata": {
        "id": "ubW8AZLEMc1d",
        "outputId": "e4cdee1f-d89b-4405-c496-d4234e48aeca"
      },
      "outputs": [
        {
          "data": {
            "text/html": [
              "<div>\n",
              "<style scoped>\n",
              "    .dataframe tbody tr th:only-of-type {\n",
              "        vertical-align: middle;\n",
              "    }\n",
              "\n",
              "    .dataframe tbody tr th {\n",
              "        vertical-align: top;\n",
              "    }\n",
              "\n",
              "    .dataframe thead th {\n",
              "        text-align: right;\n",
              "    }\n",
              "</style>\n",
              "<table border=\"1\" class=\"dataframe\">\n",
              "  <thead>\n",
              "    <tr style=\"text-align: right;\">\n",
              "      <th></th>\n",
              "      <th>LABEL</th>\n",
              "      <th>RATING</th>\n",
              "      <th>VERIFIED_PURCHASE</th>\n",
              "      <th>PRODUCT_CATEGORY</th>\n",
              "      <th>PRODUCT_ID</th>\n",
              "      <th>REVIEW_TEXT</th>\n",
              "    </tr>\n",
              "  </thead>\n",
              "  <tbody>\n",
              "    <tr>\n",
              "      <th>0</th>\n",
              "      <td>Fake</td>\n",
              "      <td>4</td>\n",
              "      <td>N</td>\n",
              "      <td>PC</td>\n",
              "      <td>B00008NG7N</td>\n",
              "      <td>When least you think so, this product will sav...</td>\n",
              "    </tr>\n",
              "    <tr>\n",
              "      <th>1</th>\n",
              "      <td>Fake</td>\n",
              "      <td>4</td>\n",
              "      <td>Y</td>\n",
              "      <td>Wireless</td>\n",
              "      <td>B00LH0Y3NM</td>\n",
              "      <td>Lithium batteries are something new introduced...</td>\n",
              "    </tr>\n",
              "    <tr>\n",
              "      <th>2</th>\n",
              "      <td>Fake</td>\n",
              "      <td>3</td>\n",
              "      <td>N</td>\n",
              "      <td>Baby</td>\n",
              "      <td>B000I5UZ1Q</td>\n",
              "      <td>I purchased this swing for my baby. She is 6 m...</td>\n",
              "    </tr>\n",
              "    <tr>\n",
              "      <th>3</th>\n",
              "      <td>Fake</td>\n",
              "      <td>4</td>\n",
              "      <td>N</td>\n",
              "      <td>Office Products</td>\n",
              "      <td>B003822IRA</td>\n",
              "      <td>I was looking for an inexpensive desk calcolat...</td>\n",
              "    </tr>\n",
              "    <tr>\n",
              "      <th>4</th>\n",
              "      <td>Fake</td>\n",
              "      <td>4</td>\n",
              "      <td>N</td>\n",
              "      <td>Beauty</td>\n",
              "      <td>B00PWSAXAM</td>\n",
              "      <td>I only use it twice a week and the results are...</td>\n",
              "    </tr>\n",
              "  </tbody>\n",
              "</table>\n",
              "</div>"
            ],
            "text/plain": [
              "  LABEL  RATING VERIFIED_PURCHASE PRODUCT_CATEGORY  PRODUCT_ID  \\\n",
              "0  Fake       4                 N               PC  B00008NG7N   \n",
              "1  Fake       4                 Y         Wireless  B00LH0Y3NM   \n",
              "2  Fake       3                 N             Baby  B000I5UZ1Q   \n",
              "3  Fake       4                 N  Office Products  B003822IRA   \n",
              "4  Fake       4                 N           Beauty  B00PWSAXAM   \n",
              "\n",
              "                                         REVIEW_TEXT  \n",
              "0  When least you think so, this product will sav...  \n",
              "1  Lithium batteries are something new introduced...  \n",
              "2  I purchased this swing for my baby. She is 6 m...  \n",
              "3  I was looking for an inexpensive desk calcolat...  \n",
              "4  I only use it twice a week and the results are...  "
            ]
          },
          "execution_count": 4,
          "metadata": {},
          "output_type": "execute_result"
        }
      ],
      "source": [
        "df.head()"
      ]
    },
    {
      "cell_type": "markdown",
      "metadata": {
        "id": "lGFiHjf_Mc1d"
      },
      "source": [
        "The Rows which have any null values are completely removed. Although this is a clean data set without any null values, any real-world data set will have many null values. They will have to be removed."
      ]
    },
    {
      "cell_type": "markdown",
      "metadata": {
        "id": "F83Na6HvMc1e"
      },
      "source": [
        "### Heatmap to check for Null Values:"
      ]
    },
    {
      "cell_type": "code",
      "execution_count": null,
      "metadata": {
        "id": "5Wl-tSbkMc1e",
        "outputId": "7986fcdd-cfe8-48e2-d227-a4aabe5047b8"
      },
      "outputs": [
        {
          "data": {
            "text/plain": [
              "<matplotlib.axes._subplots.AxesSubplot at 0x1f23700b488>"
            ]
          },
          "execution_count": 5,
          "metadata": {},
          "output_type": "execute_result"
        },
        {
          "data": {
            "image/png": "[encoded data removed]",
            "text/plain": [
              "<Figure size 432x288 with 1 Axes>"
            ]
          },
          "metadata": {
            "needs_background": "light"
          },
          "output_type": "display_data"
        }
      ],
      "source": [
        "sns.heatmap(df.isnull(),yticklabels=False,cbar=False,cmap='viridis')"
      ]
    },
    {
      "cell_type": "markdown",
      "metadata": {
        "id": "m_i8zyEdMc1f"
      },
      "source": [
        "### Removing columns with Null Values:"
      ]
    },
    {
      "cell_type": "code",
      "execution_count": null,
      "metadata": {
        "id": "8H1ZYjHCMc1f",
        "outputId": "fc1b2ff4-df17-48f2-e0f8-01ef008fe710"
      },
      "outputs": [
        {
          "data": {
            "text/html": [
              "<div>\n",
              "<style scoped>\n",
              "    .dataframe tbody tr th:only-of-type {\n",
              "        vertical-align: middle;\n",
              "    }\n",
              "\n",
              "    .dataframe tbody tr th {\n",
              "        vertical-align: top;\n",
              "    }\n",
              "\n",
              "    .dataframe thead th {\n",
              "        text-align: right;\n",
              "    }\n",
              "</style>\n",
              "<table border=\"1\" class=\"dataframe\">\n",
              "  <thead>\n",
              "    <tr style=\"text-align: right;\">\n",
              "      <th></th>\n",
              "      <th>LABEL</th>\n",
              "      <th>RATING</th>\n",
              "      <th>VERIFIED_PURCHASE</th>\n",
              "      <th>PRODUCT_CATEGORY</th>\n",
              "      <th>PRODUCT_ID</th>\n",
              "      <th>REVIEW_TEXT</th>\n",
              "    </tr>\n",
              "  </thead>\n",
              "  <tbody>\n",
              "    <tr>\n",
              "      <th>0</th>\n",
              "      <td>Fake</td>\n",
              "      <td>4</td>\n",
              "      <td>N</td>\n",
              "      <td>PC</td>\n",
              "      <td>B00008NG7N</td>\n",
              "      <td>When least you think so, this product will sav...</td>\n",
              "    </tr>\n",
              "    <tr>\n",
              "      <th>1</th>\n",
              "      <td>Fake</td>\n",
              "      <td>4</td>\n",
              "      <td>Y</td>\n",
              "      <td>Wireless</td>\n",
              "      <td>B00LH0Y3NM</td>\n",
              "      <td>Lithium batteries are something new introduced...</td>\n",
              "    </tr>\n",
              "    <tr>\n",
              "      <th>2</th>\n",
              "      <td>Fake</td>\n",
              "      <td>3</td>\n",
              "      <td>N</td>\n",
              "      <td>Baby</td>\n",
              "      <td>B000I5UZ1Q</td>\n",
              "      <td>I purchased this swing for my baby. She is 6 m...</td>\n",
              "    </tr>\n",
              "    <tr>\n",
              "      <th>3</th>\n",
              "      <td>Fake</td>\n",
              "      <td>4</td>\n",
              "      <td>N</td>\n",
              "      <td>Office Products</td>\n",
              "      <td>B003822IRA</td>\n",
              "      <td>I was looking for an inexpensive desk calcolat...</td>\n",
              "    </tr>\n",
              "    <tr>\n",
              "      <th>4</th>\n",
              "      <td>Fake</td>\n",
              "      <td>4</td>\n",
              "      <td>N</td>\n",
              "      <td>Beauty</td>\n",
              "      <td>B00PWSAXAM</td>\n",
              "      <td>I only use it twice a week and the results are...</td>\n",
              "    </tr>\n",
              "    <tr>\n",
              "      <th>...</th>\n",
              "      <td>...</td>\n",
              "      <td>...</td>\n",
              "      <td>...</td>\n",
              "      <td>...</td>\n",
              "      <td>...</td>\n",
              "      <td>...</td>\n",
              "    </tr>\n",
              "    <tr>\n",
              "      <th>20995</th>\n",
              "      <td>Real</td>\n",
              "      <td>4</td>\n",
              "      <td>Y</td>\n",
              "      <td>Shoes</td>\n",
              "      <td>B00BXYM8T8</td>\n",
              "      <td>I bought these for work.  I have high arches, ...</td>\n",
              "    </tr>\n",
              "    <tr>\n",
              "      <th>20996</th>\n",
              "      <td>Real</td>\n",
              "      <td>4</td>\n",
              "      <td>Y</td>\n",
              "      <td>Shoes</td>\n",
              "      <td>B0014C2ORK</td>\n",
              "      <td>Crocs are one of only two brands of shoes that...</td>\n",
              "    </tr>\n",
              "    <tr>\n",
              "      <th>20997</th>\n",
              "      <td>Real</td>\n",
              "      <td>5</td>\n",
              "      <td>Y</td>\n",
              "      <td>Shoes</td>\n",
              "      <td>B000EX8CCQ</td>\n",
              "      <td>I love moccasins  This fit like it was custom ...</td>\n",
              "    </tr>\n",
              "    <tr>\n",
              "      <th>20998</th>\n",
              "      <td>Real</td>\n",
              "      <td>5</td>\n",
              "      <td>Y</td>\n",
              "      <td>Shoes</td>\n",
              "      <td>B00748YHVE</td>\n",
              "      <td>I wish these were a little more durable. I got...</td>\n",
              "    </tr>\n",
              "    <tr>\n",
              "      <th>20999</th>\n",
              "      <td>Real</td>\n",
              "      <td>4</td>\n",
              "      <td>Y</td>\n",
              "      <td>Shoes</td>\n",
              "      <td>B00A46KTLU</td>\n",
              "      <td>I've been looking for a replacement for my bel...</td>\n",
              "    </tr>\n",
              "  </tbody>\n",
              "</table>\n",
              "<p>21000 rows × 6 columns</p>\n",
              "</div>"
            ],
            "text/plain": [
              "      LABEL  RATING VERIFIED_PURCHASE PRODUCT_CATEGORY  PRODUCT_ID  \\\n",
              "0      Fake       4                 N               PC  B00008NG7N   \n",
              "1      Fake       4                 Y         Wireless  B00LH0Y3NM   \n",
              "2      Fake       3                 N             Baby  B000I5UZ1Q   \n",
              "3      Fake       4                 N  Office Products  B003822IRA   \n",
              "4      Fake       4                 N           Beauty  B00PWSAXAM   \n",
              "...     ...     ...               ...              ...         ...   \n",
              "20995  Real       4                 Y            Shoes  B00BXYM8T8   \n",
              "20996  Real       4                 Y            Shoes  B0014C2ORK   \n",
              "20997  Real       5                 Y            Shoes  B000EX8CCQ   \n",
              "20998  Real       5                 Y            Shoes  B00748YHVE   \n",
              "20999  Real       4                 Y            Shoes  B00A46KTLU   \n",
              "\n",
              "                                             REVIEW_TEXT  \n",
              "0      When least you think so, this product will sav...  \n",
              "1      Lithium batteries are something new introduced...  \n",
              "2      I purchased this swing for my baby. She is 6 m...  \n",
              "3      I was looking for an inexpensive desk calcolat...  \n",
              "4      I only use it twice a week and the results are...  \n",
              "...                                                  ...  \n",
              "20995  I bought these for work.  I have high arches, ...  \n",
              "20996  Crocs are one of only two brands of shoes that...  \n",
              "20997  I love moccasins  This fit like it was custom ...  \n",
              "20998  I wish these were a little more durable. I got...  \n",
              "20999  I've been looking for a replacement for my bel...  \n",
              "\n",
              "[21000 rows x 6 columns]"
            ]
          },
          "execution_count": 6,
          "metadata": {},
          "output_type": "execute_result"
        }
      ],
      "source": [
        "df.dropna()\n",
        "df"
      ]
    },
    {
      "cell_type": "markdown",
      "metadata": {
        "id": "fsXctuJCMc1g"
      },
      "source": [
        "No rows removed."
      ]
    },
    {
      "cell_type": "markdown",
      "metadata": {
        "id": "gI8zZ6ShMc1g"
      },
      "source": [
        "# Module 2: Exploratory Data Analysis:\n",
        "\n",
        "Exploratory Data Analysis:        \n",
        "EDA is a phenomenon under data analysis used for gaining a better understanding of data aspects like:      \n",
        "– main features of data.      \n",
        "– variables and relationships that hold between them.        \n",
        "– identifying which variables are important for our problem."
      ]
    },
    {
      "cell_type": "markdown",
      "metadata": {
        "id": "lzGvmQnsMc1h"
      },
      "source": [
        "### Plot: Count for Verified Purchase"
      ]
    },
    {
      "cell_type": "code",
      "execution_count": null,
      "metadata": {
        "id": "0TU3UhEaMc1h",
        "outputId": "72ccfccc-3de5-4925-f8a7-e8215d0a6e56"
      },
      "outputs": [
        {
          "data": {
            "text/plain": [
              "<matplotlib.axes._subplots.AxesSubplot at 0x1f2388fae08>"
            ]
          },
          "execution_count": 7,
          "metadata": {},
          "output_type": "execute_result"
        },
        {
          "data": {
            "image/png": "[encoded data removed]",
            "text/plain": [
              "<Figure size 432x288 with 1 Axes>"
            ]
          },
          "metadata": {
            "needs_background": "light"
          },
          "output_type": "display_data"
        }
      ],
      "source": [
        "sns.countplot(df['VERIFIED_PURCHASE'])"
      ]
    },
    {
      "cell_type": "markdown",
      "metadata": {
        "id": "UcLs886yMc1h"
      },
      "source": [
        "### Plot: Count for Real and Fake Data"
      ]
    },
    {
      "cell_type": "code",
      "execution_count": null,
      "metadata": {
        "id": "mBECaeG8Mc1i",
        "outputId": "6584dcda-9368-498e-b29c-6128366566e2"
      },
      "outputs": [
        {
          "data": {
            "text/plain": [
              "<matplotlib.axes._subplots.AxesSubplot at 0x1f239e80d08>"
            ]
          },
          "execution_count": 8,
          "metadata": {},
          "output_type": "execute_result"
        },
        {
          "data": {
            "image/png": "[encoded data removed]",
            "text/plain": [
              "<Figure size 432x288 with 1 Axes>"
            ]
          },
          "metadata": {
            "needs_background": "light"
          },
          "output_type": "display_data"
        }
      ],
      "source": [
        "sns.countplot(df['LABEL'])"
      ]
    },
    {
      "cell_type": "markdown",
      "metadata": {
        "id": "R8PRsruhMc1i"
      },
      "source": [
        "Our dataset contains equal number of real and fake data to train and test. "
      ]
    },
    {
      "cell_type": "markdown",
      "metadata": {
        "id": "_kEz_O5iMc1i"
      },
      "source": [
        "### Plot: Ratings Against Count "
      ]
    },
    {
      "cell_type": "code",
      "execution_count": null,
      "metadata": {
        "scrolled": false,
        "id": "9E9O9YheMc1j",
        "outputId": "4ae1c275-f908-4b29-8030-c9c2e794309c"
      },
      "outputs": [
        {
          "data": {
            "text/plain": [
              "<matplotlib.axes._subplots.AxesSubplot at 0x1f23895b288>"
            ]
          },
          "execution_count": 9,
          "metadata": {},
          "output_type": "execute_result"
        },
        {
          "data": {
            "image/png": "[encoded data removed]",
            "text/plain": [
              "<Figure size 432x288 with 1 Axes>"
            ]
          },
          "metadata": {
            "needs_background": "light"
          },
          "output_type": "display_data"
        }
      ],
      "source": [
        "sns.countplot(df['RATING'])"
      ]
    },
    {
      "cell_type": "markdown",
      "metadata": {
        "id": "BfJEIjoIMc1j"
      },
      "source": [
        "### Plot: Product Category and Verified_Purchase Against Ratings"
      ]
    },
    {
      "cell_type": "code",
      "execution_count": null,
      "metadata": {
        "id": "hEA1a4hXMc1j",
        "outputId": "7b4a72dc-39b8-44df-fe2d-43adaeb483f9"
      },
      "outputs": [
        {
          "data": {
            "text/plain": [
              "<matplotlib.axes._subplots.AxesSubplot at 0x1f2389e5948>"
            ]
          },
          "execution_count": 10,
          "metadata": {},
          "output_type": "execute_result"
        },
        {
          "data": {
            "image/png": "[encoded data removed]",
            "text/plain": [
              "<Figure size 1224x936 with 1 Axes>"
            ]
          },
          "metadata": {},
          "output_type": "display_data"
        }
      ],
      "source": [
        "sns.set(rc={'figure.figsize':(17,13)})\n",
        "sns.barplot(x='RATING',y='PRODUCT_CATEGORY',data=df,hue='LABEL')"
      ]
    },
    {
      "cell_type": "markdown",
      "metadata": {
        "id": "1JHsF81tMc1j"
      },
      "source": [
        "### Plot: Product_Category and Verified Purchase Against Count"
      ]
    },
    {
      "cell_type": "code",
      "execution_count": null,
      "metadata": {
        "scrolled": false,
        "id": "3vQu1rMTMc1k",
        "outputId": "ed13360c-082d-4785-a9f3-94e889f93e9a"
      },
      "outputs": [
        {
          "data": {
            "text/plain": [
              "<matplotlib.axes._subplots.AxesSubplot at 0x1f238c3ca88>"
            ]
          },
          "execution_count": 11,
          "metadata": {},
          "output_type": "execute_result"
        },
        {
          "data": {
            "image/png": "[encoded data removed]",
            "text/plain": [
              "<Figure size 1224x936 with 1 Axes>"
            ]
          },
          "metadata": {},
          "output_type": "display_data"
        }
      ],
      "source": [
        "sns.countplot(y='LABEL',data=df,palette='coolwarm',hue='VERIFIED_PURCHASE')"
      ]
    },
    {
      "cell_type": "markdown",
      "metadata": {
        "id": "Kri6Re3KMc1k"
      },
      "source": [
        "We can notice a general trend here. The purchases made that are not verified are mostly fake and this number reduces drastically for the real reviews. And Verified purchases are often real reviews. This ratio is polarising to the extent of being 1:5 of fake to real in case of making a verified purchase. "
      ]
    },
    {
      "cell_type": "markdown",
      "metadata": {
        "id": "LRTSdYanMc1k"
      },
      "source": [
        "# Category Selection"
      ]
    },
    {
      "cell_type": "code",
      "execution_count": null,
      "metadata": {
        "id": "xgmRIp4JMc1k",
        "outputId": "480bd665-f063-4c24-f3d4-1165c9a93b26"
      },
      "outputs": [
        {
          "data": {
            "text/plain": [
              "['PC',\n",
              " 'Wireless',\n",
              " 'Baby',\n",
              " 'Office Products',\n",
              " 'Beauty',\n",
              " 'Health & Personal Care',\n",
              " 'Toys',\n",
              " 'Kitchen',\n",
              " 'Furniture',\n",
              " 'Electronics',\n",
              " 'Camera',\n",
              " 'Sports',\n",
              " 'Home',\n",
              " 'Jewelry',\n",
              " 'Books',\n",
              " 'Grocery',\n",
              " 'Video DVD',\n",
              " 'Tools',\n",
              " 'Home Improvement',\n",
              " 'Shoes',\n",
              " 'Outdoors',\n",
              " 'Luggage',\n",
              " 'Video Games',\n",
              " 'Apparel',\n",
              " 'Lawn and Garden',\n",
              " 'Pet Products',\n",
              " 'Home Entertainment',\n",
              " 'Musical Instruments',\n",
              " 'Watches',\n",
              " 'Automotive']"
            ]
          },
          "execution_count": 12,
          "metadata": {},
          "output_type": "execute_result"
        }
      ],
      "source": [
        "cats=list(df['PRODUCT_CATEGORY'].unique())\n",
        "cats"
      ]
    },
    {
      "cell_type": "code",
      "execution_count": null,
      "metadata": {
        "id": "1vTSS55zMc1k",
        "outputId": "cdd1e01f-0a6c-47b0-f0db-dcc9829d6099",
        "colab": {
          "referenced_widgets": [
            "9fdadaddc4bd438c9ee40eb4e790b032"
          ]
        }
      },
      "outputs": [
        {
          "data": {
            "application/vnd.jupyter.widget-view+json": {
              "model_id": "9fdadaddc4bd438c9ee40eb4e790b032",
              "version_major": 2,
              "version_minor": 0
            },
            "text/plain": [
              "Combobox(value='Shoes', description='Combobox:', ensure_option=True, options=('PC', 'Wireless', 'Baby', 'Offic…"
            ]
          },
          "metadata": {},
          "output_type": "display_data"
        }
      ],
      "source": [
        "a=widgets.Combobox(\n",
        "    value='Shoes',\n",
        "    placeholder='Choose a category',\n",
        "    options=cats,\n",
        "    description='Combobox:',\n",
        "    ensure_option=True,\n",
        "    disabled=False\n",
        ")\n",
        "display(a)"
      ]
    },
    {
      "cell_type": "code",
      "execution_count": null,
      "metadata": {
        "id": "k-as_288Mc1l",
        "outputId": "dc749c40-9116-4caf-9e0c-5bd57e81dceb"
      },
      "outputs": [
        {
          "data": {
            "text/plain": [
              "'Shoes'"
            ]
          },
          "execution_count": 14,
          "metadata": {},
          "output_type": "execute_result"
        }
      ],
      "source": [
        "k=a.value\n",
        "k"
      ]
    },
    {
      "cell_type": "code",
      "execution_count": null,
      "metadata": {
        "id": "Av6XkXIOMc1l",
        "outputId": "4b915f66-d307-4610-ed3b-a2fbb2d879c1"
      },
      "outputs": [
        {
          "data": {
            "text/html": [
              "<div>\n",
              "<style scoped>\n",
              "    .dataframe tbody tr th:only-of-type {\n",
              "        vertical-align: middle;\n",
              "    }\n",
              "\n",
              "    .dataframe tbody tr th {\n",
              "        vertical-align: top;\n",
              "    }\n",
              "\n",
              "    .dataframe thead th {\n",
              "        text-align: right;\n",
              "    }\n",
              "</style>\n",
              "<table border=\"1\" class=\"dataframe\">\n",
              "  <thead>\n",
              "    <tr style=\"text-align: right;\">\n",
              "      <th></th>\n",
              "      <th>index</th>\n",
              "      <th>LABEL</th>\n",
              "      <th>RATING</th>\n",
              "      <th>VERIFIED_PURCHASE</th>\n",
              "      <th>PRODUCT_ID</th>\n",
              "      <th>REVIEW_TEXT</th>\n",
              "    </tr>\n",
              "  </thead>\n",
              "  <tbody>\n",
              "    <tr>\n",
              "      <th>0</th>\n",
              "      <td>88</td>\n",
              "      <td>Fake</td>\n",
              "      <td>4</td>\n",
              "      <td>Y</td>\n",
              "      <td>B004LBJNI4</td>\n",
              "      <td>These are odd slippers, they fit great for a d...</td>\n",
              "    </tr>\n",
              "    <tr>\n",
              "      <th>1</th>\n",
              "      <td>126</td>\n",
              "      <td>Fake</td>\n",
              "      <td>4</td>\n",
              "      <td>N</td>\n",
              "      <td>B00FEW5XZ6</td>\n",
              "      <td>The color of the bag is absolutely amazing! Th...</td>\n",
              "    </tr>\n",
              "    <tr>\n",
              "      <th>2</th>\n",
              "      <td>139</td>\n",
              "      <td>Fake</td>\n",
              "      <td>4</td>\n",
              "      <td>Y</td>\n",
              "      <td>B00HK9EJDS</td>\n",
              "      <td>This is so cute! I have to buy this since my e...</td>\n",
              "    </tr>\n",
              "    <tr>\n",
              "      <th>3</th>\n",
              "      <td>636</td>\n",
              "      <td>Fake</td>\n",
              "      <td>3</td>\n",
              "      <td>N</td>\n",
              "      <td>B005GJ4HH2</td>\n",
              "      <td>I receive so many compliments on these glasses...</td>\n",
              "    </tr>\n",
              "    <tr>\n",
              "      <th>4</th>\n",
              "      <td>707</td>\n",
              "      <td>Fake</td>\n",
              "      <td>4</td>\n",
              "      <td>N</td>\n",
              "      <td>B000KJ4FOI</td>\n",
              "      <td>My hubby has had his pair of reef sandals for ...</td>\n",
              "    </tr>\n",
              "    <tr>\n",
              "      <th>...</th>\n",
              "      <td>...</td>\n",
              "      <td>...</td>\n",
              "      <td>...</td>\n",
              "      <td>...</td>\n",
              "      <td>...</td>\n",
              "      <td>...</td>\n",
              "    </tr>\n",
              "    <tr>\n",
              "      <th>695</th>\n",
              "      <td>20995</td>\n",
              "      <td>Real</td>\n",
              "      <td>4</td>\n",
              "      <td>Y</td>\n",
              "      <td>B00BXYM8T8</td>\n",
              "      <td>I bought these for work.  I have high arches, ...</td>\n",
              "    </tr>\n",
              "    <tr>\n",
              "      <th>696</th>\n",
              "      <td>20996</td>\n",
              "      <td>Real</td>\n",
              "      <td>4</td>\n",
              "      <td>Y</td>\n",
              "      <td>B0014C2ORK</td>\n",
              "      <td>Crocs are one of only two brands of shoes that...</td>\n",
              "    </tr>\n",
              "    <tr>\n",
              "      <th>697</th>\n",
              "      <td>20997</td>\n",
              "      <td>Real</td>\n",
              "      <td>5</td>\n",
              "      <td>Y</td>\n",
              "      <td>B000EX8CCQ</td>\n",
              "      <td>I love moccasins  This fit like it was custom ...</td>\n",
              "    </tr>\n",
              "    <tr>\n",
              "      <th>698</th>\n",
              "      <td>20998</td>\n",
              "      <td>Real</td>\n",
              "      <td>5</td>\n",
              "      <td>Y</td>\n",
              "      <td>B00748YHVE</td>\n",
              "      <td>I wish these were a little more durable. I got...</td>\n",
              "    </tr>\n",
              "    <tr>\n",
              "      <th>699</th>\n",
              "      <td>20999</td>\n",
              "      <td>Real</td>\n",
              "      <td>4</td>\n",
              "      <td>Y</td>\n",
              "      <td>B00A46KTLU</td>\n",
              "      <td>I've been looking for a replacement for my bel...</td>\n",
              "    </tr>\n",
              "  </tbody>\n",
              "</table>\n",
              "<p>700 rows × 6 columns</p>\n",
              "</div>"
            ],
            "text/plain": [
              "     index LABEL  RATING VERIFIED_PURCHASE  PRODUCT_ID  \\\n",
              "0       88  Fake       4                 Y  B004LBJNI4   \n",
              "1      126  Fake       4                 N  B00FEW5XZ6   \n",
              "2      139  Fake       4                 Y  B00HK9EJDS   \n",
              "3      636  Fake       3                 N  B005GJ4HH2   \n",
              "4      707  Fake       4                 N  B000KJ4FOI   \n",
              "..     ...   ...     ...               ...         ...   \n",
              "695  20995  Real       4                 Y  B00BXYM8T8   \n",
              "696  20996  Real       4                 Y  B0014C2ORK   \n",
              "697  20997  Real       5                 Y  B000EX8CCQ   \n",
              "698  20998  Real       5                 Y  B00748YHVE   \n",
              "699  20999  Real       4                 Y  B00A46KTLU   \n",
              "\n",
              "                                           REVIEW_TEXT  \n",
              "0    These are odd slippers, they fit great for a d...  \n",
              "1    The color of the bag is absolutely amazing! Th...  \n",
              "2    This is so cute! I have to buy this since my e...  \n",
              "3    I receive so many compliments on these glasses...  \n",
              "4    My hubby has had his pair of reef sandals for ...  \n",
              "..                                                 ...  \n",
              "695  I bought these for work.  I have high arches, ...  \n",
              "696  Crocs are one of only two brands of shoes that...  \n",
              "697  I love moccasins  This fit like it was custom ...  \n",
              "698  I wish these were a little more durable. I got...  \n",
              "699  I've been looking for a replacement for my bel...  \n",
              "\n",
              "[700 rows x 6 columns]"
            ]
          },
          "execution_count": 15,
          "metadata": {},
          "output_type": "execute_result"
        }
      ],
      "source": [
        "test = pd.DataFrame(df[df[\"PRODUCT_CATEGORY\"]==k].drop('PRODUCT_CATEGORY',axis=1))\n",
        "test.columns = [\"LABEL\",\"RATING\",\"VERIFIED_PURCHASE\",\"PRODUCT_ID\",\"REVIEW_TEXT\"]\n",
        "test.reset_index(inplace=True)\n",
        "test"
      ]
    },
    {
      "cell_type": "markdown",
      "metadata": {
        "id": "DJi-7C7pMc1l"
      },
      "source": [
        "# Module 3: Corpus"
      ]
    },
    {
      "cell_type": "code",
      "execution_count": null,
      "metadata": {
        "id": "lqsf2zG6Mc1l"
      },
      "outputs": [],
      "source": [
        "stops = set(stopwords.words(\"english\"))\n",
        "porter = PorterStemmer()\n",
        "lancaster=LancasterStemmer()"
      ]
    },
    {
      "cell_type": "code",
      "execution_count": null,
      "metadata": {
        "id": "FedVjqj_Mc1m"
      },
      "outputs": [],
      "source": [
        "def stemSentence(sentence):\n",
        "    sentence = [char for char in sentence if char not in string.punctuation]\n",
        "    sentence = ''.join(sentence)\n",
        "    sentence=[word for word in sentence.split() if word.lower() not in stops]\n",
        "    sentence=' '.join(sentence)\n",
        "    return sentence\n",
        "    token_words=word_tokenize(sentence)\n",
        "    token_words\n",
        "    stem_sentence=[]\n",
        "    for word in token_words:\n",
        "        stem_sentence.append(porter.stem(word))\n",
        "        stem_sentence.append(\" \")\n",
        "    return \"\".join(stem_sentence)"
      ]
    },
    {
      "cell_type": "code",
      "execution_count": null,
      "metadata": {
        "id": "ayIu11mHMc1m",
        "outputId": "47728f8f-9133-4849-c9ff-986be798cb68"
      },
      "outputs": [
        {
          "data": {
            "text/plain": [
              "'ran run running'"
            ]
          },
          "execution_count": 18,
          "metadata": {},
          "output_type": "execute_result"
        }
      ],
      "source": [
        "stemSentence('ran run running!!')"
      ]
    },
    {
      "cell_type": "code",
      "execution_count": null,
      "metadata": {
        "id": "SeWohqjoMc1m",
        "outputId": "c8d3715a-e2e8-4b2a-e135-08fa05ca10e3"
      },
      "outputs": [
        {
          "data": {
            "text/plain": [
              "'study studied studying'"
            ]
          },
          "execution_count": 19,
          "metadata": {},
          "output_type": "execute_result"
        }
      ],
      "source": [
        "stemSentence('study studied i was studying')"
      ]
    },
    {
      "cell_type": "code",
      "execution_count": null,
      "metadata": {
        "id": "9ry7QENGMc1n"
      },
      "outputs": [],
      "source": [
        "test['CORPUS']=test['REVIEW_TEXT'].apply(stemSentence)"
      ]
    },
    {
      "cell_type": "code",
      "execution_count": null,
      "metadata": {
        "id": "-7iZb0g7Mc1n",
        "outputId": "b91a41a5-ec92-47dc-8e37-208416328843"
      },
      "outputs": [
        {
          "data": {
            "text/html": [
              "<div>\n",
              "<style scoped>\n",
              "    .dataframe tbody tr th:only-of-type {\n",
              "        vertical-align: middle;\n",
              "    }\n",
              "\n",
              "    .dataframe tbody tr th {\n",
              "        vertical-align: top;\n",
              "    }\n",
              "\n",
              "    .dataframe thead th {\n",
              "        text-align: right;\n",
              "    }\n",
              "</style>\n",
              "<table border=\"1\" class=\"dataframe\">\n",
              "  <thead>\n",
              "    <tr style=\"text-align: right;\">\n",
              "      <th></th>\n",
              "      <th>index</th>\n",
              "      <th>LABEL</th>\n",
              "      <th>RATING</th>\n",
              "      <th>VERIFIED_PURCHASE</th>\n",
              "      <th>PRODUCT_ID</th>\n",
              "      <th>REVIEW_TEXT</th>\n",
              "      <th>CORPUS</th>\n",
              "    </tr>\n",
              "  </thead>\n",
              "  <tbody>\n",
              "    <tr>\n",
              "      <th>0</th>\n",
              "      <td>88</td>\n",
              "      <td>Fake</td>\n",
              "      <td>4</td>\n",
              "      <td>Y</td>\n",
              "      <td>B004LBJNI4</td>\n",
              "      <td>These are odd slippers, they fit great for a d...</td>\n",
              "      <td>odd slippers fit great day felt large either s...</td>\n",
              "    </tr>\n",
              "    <tr>\n",
              "      <th>1</th>\n",
              "      <td>126</td>\n",
              "      <td>Fake</td>\n",
              "      <td>4</td>\n",
              "      <td>N</td>\n",
              "      <td>B00FEW5XZ6</td>\n",
              "      <td>The color of the bag is absolutely amazing! Th...</td>\n",
              "      <td>color bag absolutely amazing inside baglining ...</td>\n",
              "    </tr>\n",
              "    <tr>\n",
              "      <th>2</th>\n",
              "      <td>139</td>\n",
              "      <td>Fake</td>\n",
              "      <td>4</td>\n",
              "      <td>Y</td>\n",
              "      <td>B00HK9EJDS</td>\n",
              "      <td>This is so cute! I have to buy this since my e...</td>\n",
              "      <td>cute buy since earphones always getting tied I...</td>\n",
              "    </tr>\n",
              "    <tr>\n",
              "      <th>3</th>\n",
              "      <td>636</td>\n",
              "      <td>Fake</td>\n",
              "      <td>3</td>\n",
              "      <td>N</td>\n",
              "      <td>B005GJ4HH2</td>\n",
              "      <td>I receive so many compliments on these glasses...</td>\n",
              "      <td>receive many compliments glasses small face lo...</td>\n",
              "    </tr>\n",
              "    <tr>\n",
              "      <th>4</th>\n",
              "      <td>707</td>\n",
              "      <td>Fake</td>\n",
              "      <td>4</td>\n",
              "      <td>N</td>\n",
              "      <td>B000KJ4FOI</td>\n",
              "      <td>My hubby has had his pair of reef sandals for ...</td>\n",
              "      <td>hubby pair reef sandals years extremely durabl...</td>\n",
              "    </tr>\n",
              "    <tr>\n",
              "      <th>...</th>\n",
              "      <td>...</td>\n",
              "      <td>...</td>\n",
              "      <td>...</td>\n",
              "      <td>...</td>\n",
              "      <td>...</td>\n",
              "      <td>...</td>\n",
              "      <td>...</td>\n",
              "    </tr>\n",
              "    <tr>\n",
              "      <th>695</th>\n",
              "      <td>20995</td>\n",
              "      <td>Real</td>\n",
              "      <td>4</td>\n",
              "      <td>Y</td>\n",
              "      <td>B00BXYM8T8</td>\n",
              "      <td>I bought these for work.  I have high arches, ...</td>\n",
              "      <td>bought work high arches use arch support heels...</td>\n",
              "    </tr>\n",
              "    <tr>\n",
              "      <th>696</th>\n",
              "      <td>20996</td>\n",
              "      <td>Real</td>\n",
              "      <td>4</td>\n",
              "      <td>Y</td>\n",
              "      <td>B0014C2ORK</td>\n",
              "      <td>Crocs are one of only two brands of shoes that...</td>\n",
              "      <td>Crocs one two brands shoes feet day work Love ...</td>\n",
              "    </tr>\n",
              "    <tr>\n",
              "      <th>697</th>\n",
              "      <td>20997</td>\n",
              "      <td>Real</td>\n",
              "      <td>5</td>\n",
              "      <td>Y</td>\n",
              "      <td>B000EX8CCQ</td>\n",
              "      <td>I love moccasins  This fit like it was custom ...</td>\n",
              "      <td>love moccasins fit like custom made mebr soft ...</td>\n",
              "    </tr>\n",
              "    <tr>\n",
              "      <th>698</th>\n",
              "      <td>20998</td>\n",
              "      <td>Real</td>\n",
              "      <td>5</td>\n",
              "      <td>Y</td>\n",
              "      <td>B00748YHVE</td>\n",
              "      <td>I wish these were a little more durable. I got...</td>\n",
              "      <td>wish little durable got caught bolt crossing b...</td>\n",
              "    </tr>\n",
              "    <tr>\n",
              "      <th>699</th>\n",
              "      <td>20999</td>\n",
              "      <td>Real</td>\n",
              "      <td>4</td>\n",
              "      <td>Y</td>\n",
              "      <td>B00A46KTLU</td>\n",
              "      <td>I've been looking for a replacement for my bel...</td>\n",
              "      <td>Ive looking replacement beloved KSO treks owne...</td>\n",
              "    </tr>\n",
              "  </tbody>\n",
              "</table>\n",
              "<p>700 rows × 7 columns</p>\n",
              "</div>"
            ],
            "text/plain": [
              "     index LABEL  RATING VERIFIED_PURCHASE  PRODUCT_ID  \\\n",
              "0       88  Fake       4                 Y  B004LBJNI4   \n",
              "1      126  Fake       4                 N  B00FEW5XZ6   \n",
              "2      139  Fake       4                 Y  B00HK9EJDS   \n",
              "3      636  Fake       3                 N  B005GJ4HH2   \n",
              "4      707  Fake       4                 N  B000KJ4FOI   \n",
              "..     ...   ...     ...               ...         ...   \n",
              "695  20995  Real       4                 Y  B00BXYM8T8   \n",
              "696  20996  Real       4                 Y  B0014C2ORK   \n",
              "697  20997  Real       5                 Y  B000EX8CCQ   \n",
              "698  20998  Real       5                 Y  B00748YHVE   \n",
              "699  20999  Real       4                 Y  B00A46KTLU   \n",
              "\n",
              "                                           REVIEW_TEXT  \\\n",
              "0    These are odd slippers, they fit great for a d...   \n",
              "1    The color of the bag is absolutely amazing! Th...   \n",
              "2    This is so cute! I have to buy this since my e...   \n",
              "3    I receive so many compliments on these glasses...   \n",
              "4    My hubby has had his pair of reef sandals for ...   \n",
              "..                                                 ...   \n",
              "695  I bought these for work.  I have high arches, ...   \n",
              "696  Crocs are one of only two brands of shoes that...   \n",
              "697  I love moccasins  This fit like it was custom ...   \n",
              "698  I wish these were a little more durable. I got...   \n",
              "699  I've been looking for a replacement for my bel...   \n",
              "\n",
              "                                                CORPUS  \n",
              "0    odd slippers fit great day felt large either s...  \n",
              "1    color bag absolutely amazing inside baglining ...  \n",
              "2    cute buy since earphones always getting tied I...  \n",
              "3    receive many compliments glasses small face lo...  \n",
              "4    hubby pair reef sandals years extremely durabl...  \n",
              "..                                                 ...  \n",
              "695  bought work high arches use arch support heels...  \n",
              "696  Crocs one two brands shoes feet day work Love ...  \n",
              "697  love moccasins fit like custom made mebr soft ...  \n",
              "698  wish little durable got caught bolt crossing b...  \n",
              "699  Ive looking replacement beloved KSO treks owne...  \n",
              "\n",
              "[700 rows x 7 columns]"
            ]
          },
          "execution_count": 21,
          "metadata": {},
          "output_type": "execute_result"
        }
      ],
      "source": [
        "test"
      ]
    },
    {
      "cell_type": "markdown",
      "metadata": {
        "id": "mO7m3JbpMc1n"
      },
      "source": [
        "# Module 4: Feature Engineering"
      ]
    },
    {
      "cell_type": "code",
      "execution_count": null,
      "metadata": {
        "id": "vIjy1wxDMc1n",
        "outputId": "77355562-8fd0-4efd-842f-b39d727d91db"
      },
      "outputs": [
        {
          "data": {
            "text/plain": [
              "0      odd slippers fit great day felt large either s...\n",
              "1      color bag absolutely amazing inside baglining ...\n",
              "2      cute buy since earphones always getting tied I...\n",
              "3      receive many compliments glasses small face lo...\n",
              "4      hubby pair reef sandals years extremely durabl...\n",
              "                             ...                        \n",
              "695    bought work high arches use arch support heels...\n",
              "696    Crocs one two brands shoes feet day work Love ...\n",
              "697    love moccasins fit like custom made mebr soft ...\n",
              "698    wish little durable got caught bolt crossing b...\n",
              "699    Ive looking replacement beloved KSO treks owne...\n",
              "Name: CORPUS, Length: 700, dtype: object"
            ]
          },
          "execution_count": 22,
          "metadata": {},
          "output_type": "execute_result"
        }
      ],
      "source": [
        "corpus = test['CORPUS']\n",
        "corpus"
      ]
    },
    {
      "cell_type": "code",
      "execution_count": null,
      "metadata": {
        "id": "0FQWWUy3Mc1n"
      },
      "outputs": [],
      "source": [
        "vectorizer=CountVectorizer()"
      ]
    },
    {
      "cell_type": "code",
      "execution_count": null,
      "metadata": {
        "id": "glBFmuT7Mc1o",
        "outputId": "d5997625-f2be-4928-a7d2-eb805fce472f"
      },
      "outputs": [
        {
          "name": "stdout",
          "output_type": "stream",
          "text": [
            "[[0 0 0 ... 0 0 0]\n",
            " [0 0 0 ... 0 0 0]\n",
            " [0 0 0 ... 0 0 0]\n",
            " ...\n",
            " [0 0 0 ... 0 0 0]\n",
            " [0 0 0 ... 0 0 0]\n",
            " [0 0 0 ... 0 0 0]]\n",
            "['10', '100', '1000', '100200', '1012', '105', '10s', '11', '110', '1134', '115', '115s', '11s', '12', '12w', '13', '13th', '14', '15', '16', '17', '180', '1850', '20', '200', '2005', '2014', '23', '247', '25', '2e', '2nd', '30', '3334', '34', '34air', '34classy34', '34creating', '34dress', '34extra', '34fits', '34heavier34', '34i', '34kit34', '34large34', '34look34', '34m34', '34made', '34may', '34nice', '34normal34', '34oh', '34overperscription34', '34oversized34', '34pricey34', '34purses34', '34regular34', '34slides34br', '34they', '34we', '34where', '34why', '34wide', '38', '3899', '38wide', '39', '395', '3br', '3e', '3rd', '3s', '3star', '40', '445', '45', '47', '4wd', '50', '500', '5050', '510', '511', '512', '59', '5br', '5hole', '5pm', '5star', '5th', '60', '65', '6900', '734', '75', '758', '75ft', '78', '7us40eur', '80', '80s', '810', '83', '85', '850', '856', '885', '8b', '8w', '910', '912', '95', '995', 'a5', 'ability', 'able', 'abnormal', 'abnormally', 'absolutely', 'absorb', 'absurdly', 'accent', 'accents', 'acceptable', 'accessory', 'accommodate', 'according', 'accurate', 'accurately', 'achilles', 'achy', 'acorn', 'acquired', 'across', 'active', 'activities', 'activity', 'actual', 'actually', 'adaptable', 'adaptor', 'add', 'added', 'adding', 'addition', 'additional', 'additionally', 'adds', 'addso', 'adequate', 'adequately', 'adidas', 'adjust', 'adjustable', 'adjusted', 'adjustment', 'adjustments', 'adorable', 'adore', 'adult', 'adults', 'advantage', 'adventure', 'advertised', 'advertisement', 'advertises', 'advice', 'advise', 'advised', 'aerosoles', 'affect', 'affordable', 'afraid', 'aftermarket', 'afternoon', 'afternoons', 'age', 'aged', 'aggravate', 'aggressive', 'ago', 'agree', 'agreement', 'air', 'airing', 'airplane', 'aka', 'alea', 'alike', 'allday', 'allen', 'allow', 'allows', 'allthough', 'almost', 'alone', 'along', 'alot', 'already', 'alreadyand', 'also', 'alsobr', 'alsoit', 'alternative', 'although', 'aluminum', 'always', 'amaretto', 'amazed', 'amazing', 'amazingi', 'amazingly', 'amazon', 'amazoncom', 'amazons', 'american', 'amount', 'ample', 'amusement', 'andbr', 'andnthe', 'angle', 'angled', 'ankle', 'ankles', 'anniversary', 'annoying', 'another', 'answer', 'ant', 'antiroll', 'anybody', 'anymore', 'anyone', 'anything', 'anyway', 'anywaybr', 'anywhere', 'apart', 'apparel', 'apparently', 'appear', 'appearance', 'appeared', 'appreciate', 'approach', 'appt', 'arch', 'arches', 'area', 'area34br', 'areas', 'aren', 'arent', 'arise', 'arm', 'arms', 'around', 'arrangements', 'arrival', 'arrive', 'arrived', 'arrives', 'asap', 'ascending', 'asics', 'aside', 'ask', 'asked', 'asking', 'athletic', 'attached', 'attempt', 'attend', 'attention', 'attire', 'attractive', 'attractivebut', 'attracts', 'august', 'authentic', 'automobile', 'autumn', 'available', 'average', 'aviator', 'aviators', 'avid', 'avoid', 'avuncular', 'away', 'awesome', 'awesomethey', 'awful', 'babies', 'back', 'backpack', 'backpacki', 'backpacks', 'bad', 'badge', 'badly', 'bag', 'bag34', 'bagbackpack', 'bagbr', 'baglining', 'bagpurse', 'bags', 'bagthis', 'balance', 'ballet', 'ban', 'band', 'bandaids', 'banged', 'bans', 'bar', 'bare', 'barefoot', 'barefooted', 'barely', 'bargain', 'base', 'based', 'bases', 'basically', 'basis', 'bckpack', 'bday', 'beach', 'beachbr', 'beast', 'beat', 'beautiful', 'beautifully', 'beauty', 'bed', 'bedazzled', 'bedliner', 'bedroom', 'beforebr', 'begin', 'beginning', 'begun', 'behold', 'believe', 'belive', 'bella', 'beloved', 'bend', 'bending', 'bends', 'benefit', 'benett', 'bent', 'bermuda', 'berries', 'besides', 'best', 'bestlooking', 'better', 'betterbr', 'beverages', 'beware', 'beyond', 'big', 'bigger', 'bike', 'bill', 'bills', 'binding', 'birkenstock', 'birthday', 'bit', 'bitbr', 'black', 'blazerslacks', 'bleeds', 'blends', 'bling', 'blister', 'blisters', 'block', 'blocking', 'blood', 'blue', 'boating', 'boats', 'body', 'bogs', 'bolt', 'bone', 'bonus', 'book', 'books', 'boot', 'bootbr', 'bootcut', 'booth', 'booties', 'bootines', 'boots', 'bother', 'bothered', 'bothers', 'bottle', 'bottom', 'bought', 'bow', 'bows', 'box', 'boy', 'boyfriend', 'boyfriendlove', 'boys', 'br', 'bracesapparatussleeves', 'bradley', 'bragging', 'braided', 'brand', 'brands', 'break', 'breaker', 'breakin', 'breaking', 'breakingin', 'breath', 'breathable', 'breathes', 'bred', 'brick', 'bridesmaid', 'bridge', 'bright', 'brightens', 'brilliant', 'bring', 'brings', 'britian', 'broke', 'broken', 'brooks', 'brother', 'brought', 'brown', 'browning', 'browse', 'bruising', 'btw', 'buckle', 'budget', 'built', 'bulgy', 'bulkier', 'bulky', 'bummed', 'bunching', 'bunion', 'bunk', 'burch', 'burlap', 'bus', 'business', 'busy', 'butit', 'butter', 'buy', 'buybr', 'buyer', 'buying', 'buysaw', 'ca', 'cabinet', 'cadence', 'cake', 'calf', 'calf34', 'calfs', 'calfthe', 'californication', 'call', 'called', 'calves', 'came', 'camera', 'camping', 'can', 'canada', 'candy', 'cannot', 'cant', 'canvas', 'capped', 'car', 'carbon', 'card', 'cardboard', 'cards', 'care', 'carecleaning', 'careful', 'carefulbr', 'cares', 'carousel', 'carpet', 'carries', 'carry', 'carrying', 'case', 'cast', 'casual', 'casuals', 'cat', 'catching', 'caterpillar', 'caught', 'cause', 'causing', 'cd', 'celebrated', 'cell', 'cellphone', 'cells', 'cement', 'center', 'certain', 'certainly', 'chafed', 'chain', 'chair', 'chance', 'change', 'changed', 'changing', 'character', 'charm', 'charms', 'chart', 'charts', 'cheap', 'cheaper', 'cheaply', 'check', 'checkbook', 'checked', 'checking', 'checkout', 'checks', 'cheeks', 'chemical', 'chemicals', 'chic', 'child', 'chilling', 'chilly', 'china', 'china34', 'chinese', 'chock', 'choice', 'choose', 'chose', 'chrat', 'christmas', 'chunky', 'circle', 'circulating', 'circum', 'circumbr', 'city', 'clamp', 'clamped', 'clark', 'clarks', 'clasp', 'clasps', 'class', 'classes', 'classic', 'classier', 'classy', 'clean', 'cleaner', 'cleaning', 'clear', 'clearbr', 'clearly', 'cleats', 'clerk', 'climate', 'climates', 'climb', 'clinch', 'clip', 'clipflip', 'clipless', 'clipon', 'clipons', 'clips', 'clog', 'clogs', 'close', 'closed', 'closely', 'closer', 'closes', 'closet', 'closure', 'closures', 'cloth', 'clothing', 'cloud', 'clown', 'club', 'clunky', 'clutch', 'coach', 'coach34', 'cobalt', 'coin', 'cold', 'colder', 'cole', 'collar', 'collection', 'college', 'color', 'colored', 'colorful', 'colors', 'colour', 'colourthough', 'combination', 'combined', 'comdortable', 'come', 'comentarbr', 'comes', 'comfort', 'comfortable', 'comfortableas', 'comfortablebr', 'comfortables', 'comfortablethe', 'comfortably', 'comfortalbeand', 'comfotable', 'comfy', 'coming', 'commented', 'commenting', 'comments', 'commet', 'common', 'comp', 'company', 'comparable', 'compare', 'compared', 'comparing', 'compartment', 'compartments', 'complain', 'complaining', 'complains', 'complaint', 'complaints', 'complement', 'complements', 'completely', 'complexion', 'compliment', 'complimented', 'compliments', 'con', 'concern', 'concerned', 'conditions', 'confident', 'conform', 'confortable', 'cons', 'consbr', 'consider', 'consideration', 'considered', 'considering', 'constantly', 'constomer', 'constricting', 'construction', 'constructionits', 'contact', 'contacts', 'continually', 'continue', 'contrary', 'control', 'convenient', 'conversion', 'convince', 'cool', 'coral', 'correct', 'correctly', 'cosmetic', 'cost', 'costly', 'costume', 'costumer', 'cotton', 'could', 'couldnt', 'couldve', 'couple', 'course', 'coursethey', 'courtesy', 'cover', 'covered', 'cow', 'coworker', 'coworkers', 'coworkersyou', 'cozy', 'cracked', 'cracking', 'cracks', 'cradle', 'cradles', 'craftsmanship', 'cranially', 'crap', 'crazy', 'cream', 'creases', 'created', 'creates', 'creation', 'creations', 'credit', 'credited', 'crippled', 'croc', 'crocband', 'crocs', 'cross', 'crossed', 'crossing', 'crossover', 'crowd', 'cruise', 'crushed', 'cry', 'crying', 'crystal', 'crystals', 'cup', 'current', 'currently', 'cushing', 'cushion', 'cushionbr', 'cushioned', 'cushioning', 'cushiony', 'cushy', 'cushyoverall', 'custom', 'customer', 'customers', 'cut', 'cute', 'cuteness', 'cuter', 'cutest', 'cutethese', 'cutiesi', 'cuts', 'cutting', 'cycling', 'daily', 'damaged', 'damaging', 'dance', 'danced', 'dancing', 'dansko', 'dark', 'darken', 'darker', 'date', 'daughter', 'daughterinlaw', 'daughters', 'davidson', 'dawson', 'day', 'daycharming', 'daylight', 'days', 'deal', 'dealbr', 'deals', 'dear', 'decade', 'deceiving', 'decent', 'decide', 'decided', 'decision', 'decribedwonderful', 'deep', 'deeper', 'deerskin', 'def', 'defective', 'defently', 'definitely', 'deformation', 'degree', 'delighted', 'deliver', 'delivered', 'delivers', 'delivery', 'demaged', 'denim', 'dent', 'depends', 'depicted', 'descending', 'describe', 'described', 'describle', 'description', 'design', 'designbr', 'designbusiness', 'designed', 'designers', 'designperfect', 'designs', 'despite', 'detachable', 'detailed', 'details', 'determined', 'dh', 'diamond', 'diaper', 'dicks', 'didnt', 'difference', 'different', 'differentbr', 'differentthe', 'difficult', 'difficulties', 'dig', 'digging', 'digs', 'diminish', 'dining', 'dire', 'direct', 'dirt', 'dirty', 'dirtywet', 'disappeared', 'disappoiniting', 'disappointed', 'disappointedthe', 'disappointing', 'discomfort', 'discontinue', 'discovered', 'disney', 'disneyland', 'disposable', 'dissapointed', 'dissatisfied', 'distance', 'distances', 'distributing', 'dividers', 'dockers', 'docs', 'doesnt', 'doggy', 'dogs', 'doingbr', 'dollar', 'dollars', 'donald', 'done', 'dont', 'door', 'double', 'douglas', 'downside', 'dr', 'drawback', 'dream', 'dress', 'dressed', 'dresses', 'dresswear', 'dressy', 'dries', 'drink', 'drive', 'driver', 'driving', 'drop', 'dropped', 'drove', 'drsholes', 'drug', 'dry', 'dryer', 'dsw', 'dual', 'due', 'duffle', 'dug', 'durability', 'durable', 'dust', 'dusty', 'duty', 'dye', 'ear', 'earlier', 'early', 'earphone', 'earphones', 'ease', 'easier', 'easily', 'east', 'easy', 'ecco', 'eccos', 'edges', 'edmonds', 'education', 'ee', 'eee', 'eeee', 'effect', 'effective', 'effort', 'eighteen', 'either', 'elegant', 'elementary', 'eleven', 'elfs', 'eliminated', 'elixir', 'else', 'elsewhere', 'em', 'email', 'embellishments', 'end', 'ended', 'endowed', 'ends', 'english', 'enjoy', 'enjoying', 'enough', 'entered', 'entertainment', 'environments', 'envy', 'equate', 'era', 'ereryday', 'especially', 'espresso', 'essentials', 'etc', 'eur', 'european', 'even', 'evening', 'evenly', 'event', 'events', 'eventually', 'ever', 'everthing', 'every', 'everyday', 'everyone', 'everything', 'everythingbr', 'everytime', 'everywhere', 'evil', 'exact', 'exactly', 'exam', 'excellent', 'except', 'exception', 'exchange', 'exchanged', 'exchanging', 'excited', 'exclusively', 'excuse', 'exercise', 'expands', 'expect', 'expectation', 'expectationgood', 'expectations', 'expected', 'expectedbr', 'expectedi', 'expecting', 'expensive', 'experience', 'explore', 'express', 'expression', 'exprience', 'exquisite', 'extend', 'extended', 'extensive', 'exterior', 'extra', 'extras', 'extremely', 'eye', 'eyeish', 'eyelet', 'eyelets', 'eyelettes', 'eyes', 'eyesbr', 'eyewear', 'fabric', 'fabulous', 'fabulousim', 'face', 'facebr', 'facehead', 'faces', 'facial', 'facing', 'fact', 'factor', 'factoring', 'fade', 'failure', 'fair', 'fairly', 'fake', 'fall', 'falling', 'falls', 'family', 'fan', 'fantastic', 'fantastically', 'far', 'farm', 'farther', 'fasciitis', 'fashion', 'fashionable', 'fashioned', 'fast', 'fastened', 'fat', 'father', 'fatigue', 'fatter', 'fault', 'faux', 'favorbr', 'favorite', 'favoritebackpack', 'favorites', 'fearsome', 'feather', 'feature', 'features', 'feedback', 'feedbacks', 'feeding', 'feel', 'feeling', 'feels', 'feet', 'fell', 'fellraisers', 'felt', 'feminine', 'fiancebr', 'fiber', 'fierce', 'fighting', 'figure', 'figured', 'fiip', 'file', 'filp', 'finally', 'find', 'finding', 'fine', 'finger', 'finish', 'firm', 'first', 'firstand', 'fish', 'fishing', 'fishy', 'fist', 'fit', 'fits', 'fitted', 'fitting', 'five', 'fix', 'fixed', 'flannel', 'flap', 'flares', 'flat', 'flats', 'flavors', 'flawless', 'flexes', 'flexibility', 'flimsy', 'flip', 'flipflops', 'flips', 'floor', 'floors', 'flop', 'floppy', 'flops', 'florida', 'fluffy', 'fly', 'foam', 'fog', 'foggy', 'fold', 'folded', 'folder', 'folds', 'folks', 'follow', 'following', 'fooling', 'foot', 'footankle', 'footed', 'footoh', 'footwear', 'force34', 'forced', 'forewarned', 'forget', 'forhell', 'form', 'formal', 'fortablebr', 'fortunately', 'forward', 'found', 'four', 'fourth', 'fracture', 'fragile', 'fragrantly', 'frame', 'framed', 'frames', 'frankly', 'fraying', 'frays', 'freak', 'freakin', 'free', 'freeze', 'frequently', 'fresh', 'friction', 'friday', 'friend', 'friends', 'friendshe', 'front', 'frozen', 'fruit', 'frustrated', 'frustrating', 'frustration', 'fuel', 'full', 'fully', 'fun', 'function', 'functional', 'functionalcan', 'functions', 'funny', 'fur', 'future', 'gaddafi', 'gal', 'games', 'gap', 'garage', 'garden', 'gaudy', 'gave', 'gel', 'generally', 'genuine', 'george', 'german', 'get', 'getbr', 'gets', 'getting', 'gf', 'ghost', 'gift', 'gifts', 'giggledbr', 'girl', 'girlfirend', 'girlfriend', 'girls', 'give', 'giveaways', 'given', 'gives', 'giving', 'glad', 'gladiator', 'glance', 'glare', 'glass', 'glasses', 'glassesthey', 'glitter', 'glove', 'glove34', 'glued', 'gm', 'go', 'goes', 'going', 'gold', 'golden', 'golf', 'gone', 'gonna', 'good', 'goodhighly', 'goodi', 'goodies', 'goods', 'googling', 'goooood', 'gorgeous', 'got', 'goto', 'gotten', 'gottn', 'gown', 'gradei', 'graduation', 'grain', 'grand', 'granddaughter', 'grandfather', 'grandson', 'grateful', 'gravel', 'gray', 'great', 'greatbuy', 'greati', 'greatplus', 'greatwill', 'green', 'greetings', 'gress', 'grey', 'greyfaded', 'grip', 'gripbr', 'grips', 'grocery', 'grocerys', 'grow', 'growing', 'grows', 'gts', 'guayabera', 'guess', 'guessing', 'guidelines', 'gun', 'guy', 'guys', 'gym', 'hadnt', 'hair', 'hairband', 'hairdresser', 'haley', 'half', 'halyard', 'hand', 'handbag', 'handbags', 'handed', 'handle', 'handles', 'handmade', 'hands', 'handy', 'hanging', 'hangs', 'hann', 'happen', 'happened', 'happens', 'happier', 'happy', 'hard', 'harder', 'hardly', 'hardnosed', 'hardthe', 'hardware', 'harley', 'harsh', 'hasbeens', 'hasnt', 'hat', 'hate', 'hated', 'havaianas', 'havent', 'hd', 'head', 'heads', 'heal', 'healsbr', 'healthier', 'healthy', 'hear', 'heart', 'hearty', 'heats', 'heaven', 'heavier', 'heaviest', 'heavily', 'heavy', 'heavyweight', 'heel', 'heels', 'held', 'hello', 'help', 'helped', 'helpful', 'helping', 'helps', 'helsinki', 'hence', 'hey', 'hideous', 'high', 'higher', 'higherthannormal', 'highest', 'highlight', 'highly', 'highth', 'hike', 'hiker', 'hikes', 'hiking', 'hinges', 'hippo', 'hipster', 'hit', 'hobo', 'hold', 'holder', 'holders', 'holding', 'holds', 'hole', 'holes', 'holidaybr', 'holidays', 'hollywood', 'home', 'honesty', 'honestythey', 'hooks', 'hope', 'hoped', 'hopeful', 'hopefully', 'hopes', 'hoping', 'horn', 'hose', 'hot', 'hottie', 'hour', 'hours', 'house', 'however', 'hrswk', 'hubby', 'huge', 'hugh', 'hunters', 'hurt', 'hurting', 'hurts', 'husband', 'husbands', 'hut', 'hype', 'ice', 'icing', 'id', 'idea', 'ideal', 'identical', 'identification', 'ie', 'ill', 'im', 'image', 'imagine', 'imitation', 'immediately', 'impact', 'imporatant', 'important', 'importantly', 'imported', 'impressed', 'improve', 'inbr', 'inch', 'inches', 'included', 'including', 'increases', 'incredible', 'incredibly', 'independence', 'independently', 'indicates', 'indoor', 'inexpensive', 'infants', 'inflate', 'information', 'infuser', 'inhand', 'initial', 'initially', 'injured', 'injury', 'inlaw', 'inner', 'insanely', 'inseam', 'inserted', 'inserts', 'inside', 'insole', 'insoles', 'inspection', 'install', 'instance', 'instantly', 'instead', 'instep', 'insulated', 'intentions', 'interested', 'interior', 'international', 'introduced', 'invention', 'investment', 'involved', 'inward', 'ipad', 'irritation', 'ismuch', 'isnt', 'issobr', 'issue', 'issues', 'it', 'italy', 'italy34', 'itb', 'itbr', 'itchy', 'item', 'items', 'itits', 'itleather', 'itlollove', 'ittote', 'ive', 'iy', 'jackie', 'janes', 'jazzy', 'jeans', 'jewelry', 'joan', 'joans', 'job', 'jobbr', 'jobs', 'jog', 'jogging', 'joints', 'jumped', 'jumping', 'junk', 'junky', 'kalamazoo', 'kamik', 'katavi', 'kate', 'keds', 'keep', 'keeping', 'keeps', 'kenneth', 'kept', 'keys', 'keysbr', 'khakis', 'kid', 'kidding', 'kids', 'kill', 'kills', 'kind', 'kinda', 'kinder', 'kindle', 'kinds', 'kipling', 'kleenex', 'knee', 'kneeitb', 'kneeling', 'knees', 'knew', 'knock', 'knockoffs', 'know', 'knowing', 'known', 'knubby', 'kso', 'la', 'label', 'labeled', 'lace', 'laces', 'lacing', 'lacked', 'lady', 'laptop', 'large', 'largebr', 'larger', 'largest', 'lasered', 'last', 'lasted', 'lasting', 'lastly', 'lasts', 'lasttime', 'late', 'later', 'laterand', 'laterpakage', 'latte', 'laughs', 'laundry', 'lavender', 'layer', 'lbevans', 'lbr', 'lbs', 'learn', 'learned', 'leary', 'least', 'leather', 'leathervery', 'leave', 'leaving', 'led', 'left', 'leg', 'leggings', 'legs', 'lemons', 'lend', 'length', 'lengths', 'lens', 'lensbr', 'lenses', 'leopard', 'less', 'lesson', 'let', 'lether', 'lets', 'level', 'librarian', 'licence', 'lid', 'life', 'lifei', 'lifetime', 'lifts', 'light', 'lighter', 'lighting', 'lightness', 'lights', 'lightweight', 'lightwhich', 'like', 'liked', 'likely', 'likes', 'liking', 'lil', 'limber', 'lime', 'limit', 'line', 'linen', 'liner', 'liners', 'lining', 'lipgloss', 'listed', 'literally', 'little', 'live', 'lived', 'lk', 'llbr', 'lo', 'loaded', 'loads', 'loafer', 'loafers', 'loaferthey', 'local', 'locally', 'lock', 'logo', 'logobr', 'logos', 'lol', 'lolbr', 'londons', 'long', 'longer', 'longest', 'longlasting', 'longso', 'loo', 'look', 'lookbr', 'looked', 'looking', 'lookingthis', 'looks', 'loose', 'loosen', 'loosened', 'loosening', 'loosens', 'lose', 'lost', 'lot', 'lotgood', 'lotions', 'lots', 'loud', 'loudly', 'love', 'loved', 'lovely', 'lovelygood', 'lover', 'loves', 'loving', 'low', 'lower', 'lows', 'luck', 'lucky', 'lugs', 'lunch', 'macbook', 'mad', 'madden', 'made', 'madeup', 'magnetic', 'mail', 'main', 'mainly', 'maintained', 'maisbr', 'major', 'make', 'makers', 'makes', 'makeup', 'making', 'mall', 'man', 'manifest', 'manish', 'manner', 'mantra', 'manufacturer', 'manufacturers', 'many', 'mark', 'market', 'marry', 'mary', 'match', 'matched', 'matches', 'matching', 'material', 'materials', 'matte', 'matter', 'matters', 'matts', 'may', 'maybe', 'mc', 'mcarthur', 'mean', 'meaning', 'means', 'meant', 'mebig', 'mebr', 'medications', 'mediocre', 'medium', 'meet', 'memories', 'memory', 'mens', 'mention', 'merrells', 'mesh', 'mess', 'message', 'messenger', 'messy', 'met', 'metal', 'metbr', 'microinstability', 'mid', 'middle', 'midlows', 'might', 'mile', 'miles', 'million', 'mind', 'mindful', 'mine', 'mini', 'minimal', 'minimizes', 'minion', 'mink', 'minus', 'minute', 'minutes', 'mirror', 'misleading', 'miss', 'missmatched', 'mistake', 'mistakes', 'mix', 'mizuno', 'moccasin', 'moccasins', 'model', 'moderate', 'modern', 'moisture', 'mold', 'moment', 'money', 'monkey', 'montana', 'month', 'months', 'morning', 'mornings', 'mortar', 'mostly', 'mother', 'mothers', 'motion', 'mottos', 'mould', 'mountain', 'mouth', 'move', 'moved', 'much', 'muchquality', 'mud', 'muddy', 'multiple', 'muscular', 'must', 'mustcheck', 'muzzle', 'nadabr', 'name', 'namely', 'nap', 'narrow', 'narrower', 'natalie', 'nation', 'natural', 'naturalize', 'navy', 'nb', 'near', 'nearly', 'neat', 'necessarily', 'necessary', 'necessities', 'neck', 'need', 'needa', 'needed', 'needing', 'needs', 'needswhat', 'negative', 'neither', 'neon', 'nephew', 'nephews', 'nerd', 'nervous', 'networks', 'neuroma', 'never', 'neverfull', 'new', 'news', 'newupdated', 'next', 'nice', 'nicecomfy', 'nicely', 'nicer', 'nicethe', 'night', 'nike', 'nine', 'nobody', 'noisy', 'nonexistent', 'nonpolarized', 'nontehcnical', 'noot', 'norm', 'normal', 'normally', 'northern', 'nose', 'nostalgia', 'note', 'notebook', 'notepad', 'nothing', 'notice', 'noticeable', 'noticed', 'noting', 'november', 'nowadays', 'nowhere', 'nude', 'number', 'numerous', 'nylon', 'nylons', 'nãobr', 'oakley', 'oakleys', 'obstacle', 'obvious', 'obviously', 'occasion', 'occasional', 'occasionally', 'ocrs', 'odd', 'oddly', 'odor', 'offer', 'offered', 'offering', 'offers', 'office', 'official', 'offs', 'ofmilght', 'often', 'oftenbr', 'oh', 'ohhs', 'ohit', 'oil', 'ok', 'okand', 'okay', 'okbuy', 'old', 'older', 'onbr', 'one', 'ones', 'oneso', 'online', 'onoff', 'ons', 'onsite', 'open', 'opened', 'opener', 'opening', 'opinion', 'opposite', 'opted', 'optical', 'option', 'options', 'optometrist', 'order', 'ordered', 'ordering', 'orders', 'organization', 'organizer', 'organizing', 'original', 'originally', 'orthotics', 'orthoticthis', 'others', 'othersthe', 'otherwise', 'outdoor', 'outdoors', 'outer', 'outfit', 'outfitathletic', 'outfits', 'outing', 'outings', 'outlet', 'outmaybe', 'outside', 'outstanding', 'oval', 'overall', 'overallbr', 'overlapping', 'overlook', 'overly', 'overpriced', 'oversize', 'oversized', 'owned', 'oxford', 'pace', 'package', 'packaged', 'packagingbr', 'packing', 'pad', 'padding', 'paid', 'pain', 'painfree', 'painful', 'pair', 'paired', 'pairs', 'paitr', 'pakage', 'panama', 'pants', 'paper', 'paperback', 'paranoia', 'park', 'parking', 'part', 'partial', 'particular', 'parties', 'parts', 'party', 'pass', 'past', 'pastel', 'patchy', 'patent', 'patience', 'patients', 'pattern', 'patterns', 'pay', 'payless', 'payment', 'peace', 'peach', 'pedals', 'peep', 'pen', 'penny', 'people', 'per', 'perfect', 'perfectbr', 'perfectly', 'perfectlybr', 'perfectlystick', 'perfectlyyou', 'perform', 'performance', 'perhaps', 'periods', 'peripheral', 'permeable', 'perscription', 'person', 'personal', 'personally', 'perspective', 'perspiration', 'petite', 'pewter', 'phenomenal', 'phenominal', 'phoenix', 'phone', 'phonecosmeticsbooksbr', 'phones', 'photo', 'photographer', 'physical', 'pick', 'picked', 'pickup', 'picky', 'pics', 'picture', 'picturebr', 'pictured', 'picturedi', 'pictures', 'picturesbr', 'piece', 'pieces', 'pin', 'pinch', 'pinched', 'pink', 'pipeline', 'place', 'placed', 'placement', 'placing', 'plain', 'plan', 'planing', 'planks', 'planner', 'planning', 'plantar', 'plastic', 'plastics', 'platform', 'platforms', 'play', 'players', 'pleaded', 'pleasant', 'please', 'pleased', 'plenty', 'plus', 'pm', 'pocket', 'pocketbook', 'pockets', 'podiatrist', 'point', 'pointed', 'points', 'polarized', 'policy', 'polish', 'polished', 'polishes', 'polycarp', 'pony', 'poor', 'poorly', 'pops', 'popular', 'porbr', 'porcelain', 'porduct', 'portion', 'possible', 'post', 'postage', 'pouch', 'pouches', 'powder', 'power', 'practical', 'practicality', 'pred', 'prefer', 'prefered', 'preference', 'preggo', 'prepared', 'preprinted', 'prescribed', 'prescription', 'present', 'presents', 'press', 'pressure', 'presumed', 'prettierbr', 'pretty', 'prettythe', 'previous', 'previously', 'price', 'pricebr', 'pricebut', 'priced', 'pricemy', 'pricey', 'priduct', 'primarily', 'primary', 'prime', 'print', 'printing', 'prior', 'privacy', 'privet', 'privo', 'probably', 'problem', 'problems', 'process', 'produces', 'product', 'products', 'profession', 'professional', 'professionalbr', 'profile', 'prolonged', 'prominent', 'promising', 'promptly', 'pronator', 'proper', 'properly', 'pros', 'prosbr', 'protect', 'protected', 'protection', 'protective', 'protects', 'proved', 'provide', 'provided', 'provides', 'providing', 'proving', 'puddles', 'pull', 'pulling', 'puma', 'pumps', 'purchase', 'purchased', 'purchasing', 'purchse', 'purple', 'purpose', 'purse', 'pursebr', 'pursegreat', 'purses', 'push', 'put', 'putit', 'puts', 'putting', 'quality', 'qualitywise', 'querobr', 'quick', 'quickly', 'quiet', 'quite', 'quote', 'races', 'radiant', 'rain', 'rainbows', 'rained', 'raining', 'rainy', 'raiser', 'ram', 'ran', 'random', 'range', 'rare', 'rate', 'rather', 'rave', 'raving', 'ray', 'rayban', 'raybanbr', 'raybans', 'raybanso', 'rayben', 'rays', 'reaching', 'read', 'reading', 'ready', 'real', 'reality', 'realize', 'realized', 'really', 'reason', 'reasonable', 'reasonably', 'reasons', 'reattached', 'rec', 'reccomendation', 'reccommend', 'receiced', 'receipt', 'receipts', 'receive', 'received', 'receives', 'recently', 'receptionist', 'recieved', 'recipient', 'recive', 'recommend', 'recommended', 'recommends', 'recorder', 'rectangular', 'recuperating', 'recycled', 'red', 'reduce', 'reducing', 'reebok', 'reeboks', 'reef', 'reefs', 'reference', 'reflective', 'refund', 'regret', 'regretted', 'regular', 'reimbursement', 'reissues', 'relatively', 'relax', 'release', 'reliable', 'relied', 'relief', 'relieved', 'remain', 'remarked', 'reminds', 'removable', 'remove', 'removed', 'reorder', 'reordered', 'rep', 'repair', 'repeatedly', 'replace', 'replaced', 'replacement', 'replacements', 'replacing', 'reports', 'request', 'required', 'reseived', 'resist', 'resistant', 'respecting', 'rest', 'result', 'retailers', 'retire', 'retired', 'return', 'returned', 'returning', 'returns', 'reunion', 'review', 'reviewers', 'reviews', 'reviewsbr', 'reviewsi', 'revived', 'rewards', 'rhinestones', 'ribbon', 'rich', 'rid', 'ride', 'riders', 'ridiculobr', 'riding', 'right', 'rightbr', 'rigid', 'rip', 'ripped', 'ripping', 'rises', 'risk', 'rite', 'river', 'road', 'rock', 'rocked', 'rocksbr', 'rocky', 'rolled', 'rolling', 'romania', 'romania34', 'romikas', 'room', 'roomy', 'rose', 'rotation', 'rough', 'roughly', 'round', 'rubbed', 'rubber', 'rubbing', 'rugged', 'ruin', 'run', 'runner', 'runners', 'running', 'runs', 'sad', 'sadly', 'safely', 'safety', 'said', 'sale', 'sales', 'salomon', 'samples', 'sand', 'sandal', 'sandals', 'sandalshoe', 'sanuk', 'sat', 'satisfied', 'saturday', 'sauce', 'saucony', 'save', 'saved', 'saw', 'say', 'saying', 'says', 'scare', 'scared', 'scent', 'scheduled', 'scholls', 'school', 'score', 'scraps', 'scratach', 'scratch', 'scratched', 'scratches', 'scratchy', 'screw', 'scuff', 'seam', 'seams', 'search', 'searching', 'season', 'seat', 'second', 'sections', 'secure', 'securely', 'security', 'see', 'seeing', 'seem', 'seemed', 'seems', 'seen', 'selected', 'selecting', 'self', 'seller', 'sellergreat', 'sellerthank', 'send', 'sending', 'sense', 'sensitive', 'sent', 'separate', 'separated', 'sequins', 'series', 'serves', 'service', 'sessions', 'set', 'sets', 'setting', 'seven', 'several', 'severalhard', 'sewing', 'sewn', 'sexier', 'sexy', 'shade', 'shaded', 'shades', 'shading', 'shame', 'shape', 'shaped', 'shapes', 'sharp', 'shed', 'shedding', 'sheets', 'shell', 'sherwood', 'shes', 'shift', 'shine', 'shiny', 'ship', 'shipment', 'shipped', 'shipper', 'shipping', 'shirt', 'shock', 'shocked', 'shoe', 'shoeboot', 'shoei', 'shoelaces', 'shoes', 'shoes34', 'shoesbr', 'shoesi', 'shoesvery', 'shoot', 'shop', 'shopper', 'shopping', 'short', 'shorter', 'shorts', 'shoulder', 'shoulderbr', 'shouldnt', 'shout', 'shoveling', 'show', 'showed', 'shown', 'shows', 'shrink', 'shrunk', 'shuffle', 'side', 'sides', 'sidezip', 'sight', 'significant', 'significantly', 'signs', 'silicon', 'silver', 'similar', 'simple', 'simply', 'since', 'single', 'sinuses', 'sister', 'sit', 'site', 'sits', 'sitting', 'situationsbr', 'size', 'sizebr', 'sized', 'sizes', 'sizethe', 'sizing', 'skates', 'skeptical', 'ski', 'skin', 'skinny', 'skip', 'skirt', 'skirtit', 'skirtlollove', 'skirts', 'skull', 'skulls', 'slacks', 'slant', 'slapped', 'sleek', 'sleep', 'sleeve', 'sleevethat', 'slide', 'slides', 'sliding', 'slighly', 'slight', 'slightly', 'slim', 'slimmer', 'slip', 'slipon', 'slipons', 'slipped', 'slipper', 'slippers', 'slippery', 'slipping', 'slips', 'slopes', 'slot', 'slots', 'slouchy', 'slow', 'small', 'smallbr', 'smaller', 'smallorder', 'smart', 'smartthey', 'smell', 'smelled', 'smells', 'smidge', 'smile', 'smiling', 'smokeables', 'smooth', 'smudges', 'smuf', 'snagged', 'snap', 'snaps', 'sneaker', 'sneakers', 'sneaks', 'snob', 'snow', 'snowcovered', 'snowice', 'snug', 'snuggly', 'snugglybr', 'soak', 'sock', 'sockless', 'socks', 'soft', 'softball', 'soften', 'softest', 'softit', 'sole', 'solebr', 'soles', 'solesbr', 'solid', 'solo', 'solve', 'someone', 'something', 'sometimes', 'somewhat', 'somewhere', 'somthing', 'son', 'sons', 'soon', 'sooo', 'sooooo', 'sophisticated', 'sore', 'soreness', 'sorry', 'sorts', 'soul', 'souls', 'sound', 'space', 'spaces', 'spacious', 'spacy', 'spade', 'spare', 'sparkly', 'spate', 'speacial', 'specialist', 'specialsi', 'specific', 'specifically', 'speed', 'speedcross', 'spells', 'spend', 'spent', 'sperry', 'sperrys', 'spin', 'spiras', 'split', 'splitting', 'sport', 'sporting', 'sports', 'sporty', 'spot', 'spotlessly', 'spray', 'sprayed', 'spread', 'spring', 'springs', 'spurs', 'square', 'squeak', 'squeeze', 'squinting', 'squishing', 'squuk', 'stability', 'stable', 'staining', 'stains', 'stand', 'standard', 'standing', 'star', 'staring', 'stars', 'start', 'started', 'starting', 'starts', 'state', 'statement', 'states', 'stay', 'stayed', 'staying', 'stays', 'steal', 'steel', 'steep', 'step', 'step34', 'stepped', 'stepping', 'steve', 'stiched', 'sticking', 'sticks', 'stiff', 'stiffer', 'still', 'stinks', 'stisfied', 'stitched', 'stitching', 'stk89135', 'stk89425', 'stomping', 'stop', 'stops', 'storage', 'store', 'stores', 'story', 'straight', 'strain', 'strange', 'strangely', 'strangers', 'strap', 'strapped', 'straps', 'stratford', 'stratfords', 'straw', 'strawberries', 'streach', 'street', 'strength', 'stress', 'stretch', 'stretch12', 'stretched', 'stretcher', 'stretching', 'stride', 'string', 'strings', 'strip', 'stripe', 'stripes', 'strong', 'stronger', 'strongly', 'structure', 'struggle', 'stuart', 'stubborn', 'stuck', 'stucked', 'students', 'stuff', 'stuffed', 'stuffwhich', 'sturdy', 'style', 'stylelooks', 'styles', 'styling', 'stylish', 'styly', 'substantial', 'subtle', 'subtler', 'suck', 'suede', 'suffering', 'suggest', 'suggestion', 'suit', 'suitable', 'suited', 'suits', 'summer', 'summeras', 'summerthe', 'summerwhen', 'sun', 'sundowner', 'sunglass', 'sunglasses', 'sunglassesbr', 'sunglassesonly', 'sunlight', 'sunscreen', 'sunshine', 'super', 'superfast', 'suppoet', 'support', 'supportive', 'supposed', 'sure', 'surface', 'surfboard', 'surgeries', 'surprise', 'surprised', 'surprisedafter', 'surprisedpleasantly', 'suspicious', 'suuuuuper', 'sw', 'sweat', 'sweater', 'sweating', 'sweden', 'swedish', 'switch', 'symbol', 'syndrome', 'synthetic', 'system', 'ta', 'tab', 'tablet', 'taco', 'taffeta', 'tag', 'tags', 'tail', 'take', 'taken', 'takes', 'taliani', 'talking', 'tall', 'tan', 'tangle', 'tap', 'taped', 'target', 'taste', 'taupe', 'teach', 'teacher', 'tear', 'teenagers', 'teeter', 'teh', 'tell', 'temperature', 'tempted', 'ten', 'tend', 'tendinitis', 'tendon', 'tennis', 'term', 'terms', 'terrible', 'terribly', 'terrific', 'test', 'tested', 'testing', 'teva', 'tevas', 'texture', 'texturebr', 'thank', 'thanks', 'thanksgiving', 'thats', 'theese', 'them34', 'thembr', 'theme', 'themhe', 'themno', 'themthe', 'themthese', 'therapy', 'therefore', 'theres', 'thermal', 'thesebr', 'theses', 'thesethe', 'they', 'theyd', 'theyll', 'theylook', 'theyre', 'theyve', 'thick', 'thicker', 'thickness', 'thin', 'thing', 'things', 'think', 'thinking', 'thinks', 'thinner', 'thinnish', 'third', 'thong', 'though', 'thought', 'three', 'thrilled', 'throughout', 'throught', 'throw', 'throwaways', 'thsi', 'thus', 'tidy', 'tie', 'tied', 'ties', 'tight', 'tightening', 'tighter', 'tightly', 'tile', 'till', 'time', 'timebr', 'timeless', 'timeliness', 'timely', 'times', 'tinny', 'tint', 'tiny', 'tip', 'tips', 'tired', 'title', 'today', 'toddler', 'toe', 'toes', 'together', 'togetherit', 'told', 'toll', 'tom', 'tomorrow', 'toms', 'ton', 'toned', 'tons', 'toobr', 'took', 'tootsies', 'top', 'toplooks', 'topsider', 'topwont', 'tortuous', 'tory', 'totally', 'tote', 'totes', 'touch', 'tough', 'toughened', 'towards', 'toys', 'tpu', 'track', 'traction', 'trade', 'traditional', 'trail', 'trails', 'transaction', 'transport', 'travel', 'traveler', 'traveling', 'travelling', 'travels', 'tray', 'tread', 'treads', 'trek', 'treks', 'trends', 'trendythats', 'trick', 'tried', 'trim', 'trimmed', 'trimming', 'trip', 'triple', 'tripmy', 'trips', 'trouble', 'troubles', 'trousers', 'truck', 'true', 'truly', 'truth', 'try', 'trying', 'tucked', 'tumble', 'tumbled', 'turned', 'turning', 'turns', 'twice', 'twist', 'two', 'type', 'types', 'typical', 'typically', 'tyson', 'uggs', 'ugly', 'ultra', 'unable', 'uncle', 'uncomfortable', 'uncompromisingbr', 'undamagednice', 'underneath', 'understand', 'undone', 'uneven', 'unevenly', 'unexpected', 'unexpectedly', 'unfinished', 'unfortunately', 'unfortunatly', 'unhappy', 'uniformed', 'uniformly', 'unique', 'unisex', 'unitl', 'unless', 'unlike', 'unraveled', 'unstrap', 'unsure', 'untie', 'untied', 'untucked', 'unzip', 'up34', 'update', 'updated', 'upgrade', 'upload', 'upon', 'uppers', 'upright', 'ups', 'upscale', 'upset', 'us', 'us7', 'us8', 'usa', 'usage', 'use', 'useable', 'used', 'useful', 'usefulits', 'useless', 'usethey', 'using', 'usps', 'usual', 'usuall', 'usually', 'uswe', 'utility', 'uv', 'vacationbr', 'vacations', 'valentino', 'value', 'valueconstruction', 'valued', 'vamp', 'vans', 'varied', 'varieties', 'various', 'vasque', 've', 'velcro', 'vent', 'vera', 'versatile', 'version', 'vertical', 'vibe', 'vibram', 'vibrant', 'view', 'viewing', 'views', 'vinyl', 'violet', 'vision', 'vixen', 'volleyball', 'volume', 'wait', 'waited', 'waiting', 'walk', 'walked', 'walking', 'walkingbetter', 'wallet', 'wallets', 'want', 'wanted', 'wanting', 'wants', 'wardrobe', 'ware', 'warm', 'warmer', 'warmth', 'warn', 'wary', 'wash', 'washed', 'washer', 'wasnt', 'waste', 'wasting', 'water', 'waterproff', 'waterproof', 'waterresistant', 'wave', 'waxy', 'way', 'ways', 'wear', 'wearable', 'wearbr', 'wearing', 'wearings', 'wears', 'weather', 'website', 'wedding', 'wedge', 'wedges', 'week', 'weekend', 'weekends', 'weeks', 'wegdes', 'weigh', 'weight', 'weird', 'weitzman', 'welcome', 'well', 'wellmade', 'wellthis', 'went', 'werent', 'west', 'wet', 'wetbr', 'wether', 'weve', 'whatever', 'whats', 'whatsoever', 'whenever', 'whereas', 'whereever', 'whether', 'white', 'whole', 'wide', 'wider', 'widewidth', 'width', 'wife', 'wifes', 'wildcats', 'willing', 'willl', 'wind', 'windowed', 'wing', 'winners', 'winsor', 'winter', 'wipe', 'wire', 'wisely', 'wish', 'withi', 'within', 'without', 'woman', 'womans', 'women', 'womens', 'won', 'wonder', 'wonderbr', 'wonderful', 'wonderful34', 'wondering', 'wonders', 'wont', 'wood', 'wooden', 'woods', 'wool', 'word', 'wore', 'work', 'workbut', 'worked', 'working', 'workline', 'workmanship', 'workout', 'works', 'world', 'worn', 'worried', 'worries', 'worry', 'worse', 'worth', 'worthy', 'would', 'wouldbr', 'wouldn', 'wouldnt', 'wow', 'wrist', 'write', 'writing', 'written', 'wrong', 'wthe', 'ww2', 'xa', 'yard', 'yeah', 'year', 'yearold', 'yearround', 'years', 'yellow', 'yes', 'yesterday', 'yet', 'youbr', 'youll', 'youre', 'youthe', 'yr', 'zebra', 'zen', 'zero', 'zipper', 'zippered', 'ébr', '款式好看', '这双鞋尺码非常合适']\n"
          ]
        }
      ],
      "source": [
        "bow=vectorizer.fit_transform(corpus)\n",
        "print(bow.toarray())\n",
        "print(vectorizer.get_feature_names())"
      ]
    },
    {
      "cell_type": "code",
      "execution_count": null,
      "metadata": {
        "id": "bYj4B2wsMc1p",
        "outputId": "26eb7aa4-bc53-4582-e92d-0f23822c86a1"
      },
      "outputs": [
        {
          "data": {
            "text/html": [
              "<div>\n",
              "<style scoped>\n",
              "    .dataframe tbody tr th:only-of-type {\n",
              "        vertical-align: middle;\n",
              "    }\n",
              "\n",
              "    .dataframe tbody tr th {\n",
              "        vertical-align: top;\n",
              "    }\n",
              "\n",
              "    .dataframe thead th {\n",
              "        text-align: right;\n",
              "    }\n",
              "</style>\n",
              "<table border=\"1\" class=\"dataframe\">\n",
              "  <thead>\n",
              "    <tr style=\"text-align: right;\">\n",
              "      <th></th>\n",
              "      <th>10</th>\n",
              "      <th>100</th>\n",
              "      <th>1000</th>\n",
              "      <th>100200</th>\n",
              "      <th>1012</th>\n",
              "      <th>105</th>\n",
              "      <th>10s</th>\n",
              "      <th>11</th>\n",
              "      <th>110</th>\n",
              "      <th>1134</th>\n",
              "      <th>...</th>\n",
              "      <th>youthe</th>\n",
              "      <th>yr</th>\n",
              "      <th>zebra</th>\n",
              "      <th>zen</th>\n",
              "      <th>zero</th>\n",
              "      <th>zipper</th>\n",
              "      <th>zippered</th>\n",
              "      <th>ébr</th>\n",
              "      <th>款式好看</th>\n",
              "      <th>这双鞋尺码非常合适</th>\n",
              "    </tr>\n",
              "  </thead>\n",
              "  <tbody>\n",
              "    <tr>\n",
              "      <th>0</th>\n",
              "      <td>0</td>\n",
              "      <td>0</td>\n",
              "      <td>0</td>\n",
              "      <td>0</td>\n",
              "      <td>0</td>\n",
              "      <td>0</td>\n",
              "      <td>0</td>\n",
              "      <td>0</td>\n",
              "      <td>0</td>\n",
              "      <td>0</td>\n",
              "      <td>...</td>\n",
              "      <td>0</td>\n",
              "      <td>0</td>\n",
              "      <td>0</td>\n",
              "      <td>0</td>\n",
              "      <td>0</td>\n",
              "      <td>0</td>\n",
              "      <td>0</td>\n",
              "      <td>0</td>\n",
              "      <td>0</td>\n",
              "      <td>0</td>\n",
              "    </tr>\n",
              "    <tr>\n",
              "      <th>1</th>\n",
              "      <td>0</td>\n",
              "      <td>0</td>\n",
              "      <td>0</td>\n",
              "      <td>0</td>\n",
              "      <td>0</td>\n",
              "      <td>0</td>\n",
              "      <td>0</td>\n",
              "      <td>0</td>\n",
              "      <td>0</td>\n",
              "      <td>0</td>\n",
              "      <td>...</td>\n",
              "      <td>0</td>\n",
              "      <td>0</td>\n",
              "      <td>0</td>\n",
              "      <td>0</td>\n",
              "      <td>0</td>\n",
              "      <td>0</td>\n",
              "      <td>0</td>\n",
              "      <td>0</td>\n",
              "      <td>0</td>\n",
              "      <td>0</td>\n",
              "    </tr>\n",
              "    <tr>\n",
              "      <th>2</th>\n",
              "      <td>0</td>\n",
              "      <td>0</td>\n",
              "      <td>0</td>\n",
              "      <td>0</td>\n",
              "      <td>0</td>\n",
              "      <td>0</td>\n",
              "      <td>0</td>\n",
              "      <td>0</td>\n",
              "      <td>0</td>\n",
              "      <td>0</td>\n",
              "      <td>...</td>\n",
              "      <td>0</td>\n",
              "      <td>0</td>\n",
              "      <td>0</td>\n",
              "      <td>0</td>\n",
              "      <td>0</td>\n",
              "      <td>0</td>\n",
              "      <td>0</td>\n",
              "      <td>0</td>\n",
              "      <td>0</td>\n",
              "      <td>0</td>\n",
              "    </tr>\n",
              "    <tr>\n",
              "      <th>3</th>\n",
              "      <td>0</td>\n",
              "      <td>0</td>\n",
              "      <td>0</td>\n",
              "      <td>0</td>\n",
              "      <td>0</td>\n",
              "      <td>0</td>\n",
              "      <td>0</td>\n",
              "      <td>0</td>\n",
              "      <td>0</td>\n",
              "      <td>0</td>\n",
              "      <td>...</td>\n",
              "      <td>0</td>\n",
              "      <td>0</td>\n",
              "      <td>0</td>\n",
              "      <td>0</td>\n",
              "      <td>0</td>\n",
              "      <td>0</td>\n",
              "      <td>0</td>\n",
              "      <td>0</td>\n",
              "      <td>0</td>\n",
              "      <td>0</td>\n",
              "    </tr>\n",
              "    <tr>\n",
              "      <th>4</th>\n",
              "      <td>0</td>\n",
              "      <td>0</td>\n",
              "      <td>0</td>\n",
              "      <td>0</td>\n",
              "      <td>0</td>\n",
              "      <td>0</td>\n",
              "      <td>0</td>\n",
              "      <td>0</td>\n",
              "      <td>0</td>\n",
              "      <td>0</td>\n",
              "      <td>...</td>\n",
              "      <td>0</td>\n",
              "      <td>0</td>\n",
              "      <td>0</td>\n",
              "      <td>0</td>\n",
              "      <td>0</td>\n",
              "      <td>0</td>\n",
              "      <td>0</td>\n",
              "      <td>0</td>\n",
              "      <td>0</td>\n",
              "      <td>0</td>\n",
              "    </tr>\n",
              "    <tr>\n",
              "      <th>...</th>\n",
              "      <td>...</td>\n",
              "      <td>...</td>\n",
              "      <td>...</td>\n",
              "      <td>...</td>\n",
              "      <td>...</td>\n",
              "      <td>...</td>\n",
              "      <td>...</td>\n",
              "      <td>...</td>\n",
              "      <td>...</td>\n",
              "      <td>...</td>\n",
              "      <td>...</td>\n",
              "      <td>...</td>\n",
              "      <td>...</td>\n",
              "      <td>...</td>\n",
              "      <td>...</td>\n",
              "      <td>...</td>\n",
              "      <td>...</td>\n",
              "      <td>...</td>\n",
              "      <td>...</td>\n",
              "      <td>...</td>\n",
              "      <td>...</td>\n",
              "    </tr>\n",
              "    <tr>\n",
              "      <th>695</th>\n",
              "      <td>0</td>\n",
              "      <td>0</td>\n",
              "      <td>0</td>\n",
              "      <td>0</td>\n",
              "      <td>0</td>\n",
              "      <td>0</td>\n",
              "      <td>0</td>\n",
              "      <td>0</td>\n",
              "      <td>0</td>\n",
              "      <td>0</td>\n",
              "      <td>...</td>\n",
              "      <td>0</td>\n",
              "      <td>0</td>\n",
              "      <td>0</td>\n",
              "      <td>0</td>\n",
              "      <td>0</td>\n",
              "      <td>0</td>\n",
              "      <td>0</td>\n",
              "      <td>0</td>\n",
              "      <td>0</td>\n",
              "      <td>0</td>\n",
              "    </tr>\n",
              "    <tr>\n",
              "      <th>696</th>\n",
              "      <td>0</td>\n",
              "      <td>0</td>\n",
              "      <td>0</td>\n",
              "      <td>0</td>\n",
              "      <td>0</td>\n",
              "      <td>0</td>\n",
              "      <td>0</td>\n",
              "      <td>0</td>\n",
              "      <td>0</td>\n",
              "      <td>0</td>\n",
              "      <td>...</td>\n",
              "      <td>0</td>\n",
              "      <td>0</td>\n",
              "      <td>0</td>\n",
              "      <td>0</td>\n",
              "      <td>0</td>\n",
              "      <td>0</td>\n",
              "      <td>0</td>\n",
              "      <td>0</td>\n",
              "      <td>0</td>\n",
              "      <td>0</td>\n",
              "    </tr>\n",
              "    <tr>\n",
              "      <th>697</th>\n",
              "      <td>0</td>\n",
              "      <td>0</td>\n",
              "      <td>0</td>\n",
              "      <td>0</td>\n",
              "      <td>0</td>\n",
              "      <td>0</td>\n",
              "      <td>0</td>\n",
              "      <td>0</td>\n",
              "      <td>0</td>\n",
              "      <td>0</td>\n",
              "      <td>...</td>\n",
              "      <td>0</td>\n",
              "      <td>0</td>\n",
              "      <td>0</td>\n",
              "      <td>0</td>\n",
              "      <td>0</td>\n",
              "      <td>0</td>\n",
              "      <td>0</td>\n",
              "      <td>0</td>\n",
              "      <td>0</td>\n",
              "      <td>0</td>\n",
              "    </tr>\n",
              "    <tr>\n",
              "      <th>698</th>\n",
              "      <td>0</td>\n",
              "      <td>0</td>\n",
              "      <td>0</td>\n",
              "      <td>0</td>\n",
              "      <td>0</td>\n",
              "      <td>0</td>\n",
              "      <td>0</td>\n",
              "      <td>0</td>\n",
              "      <td>0</td>\n",
              "      <td>0</td>\n",
              "      <td>...</td>\n",
              "      <td>0</td>\n",
              "      <td>0</td>\n",
              "      <td>0</td>\n",
              "      <td>0</td>\n",
              "      <td>0</td>\n",
              "      <td>0</td>\n",
              "      <td>0</td>\n",
              "      <td>0</td>\n",
              "      <td>0</td>\n",
              "      <td>0</td>\n",
              "    </tr>\n",
              "    <tr>\n",
              "      <th>699</th>\n",
              "      <td>0</td>\n",
              "      <td>0</td>\n",
              "      <td>0</td>\n",
              "      <td>0</td>\n",
              "      <td>0</td>\n",
              "      <td>0</td>\n",
              "      <td>0</td>\n",
              "      <td>0</td>\n",
              "      <td>0</td>\n",
              "      <td>0</td>\n",
              "      <td>...</td>\n",
              "      <td>0</td>\n",
              "      <td>0</td>\n",
              "      <td>0</td>\n",
              "      <td>0</td>\n",
              "      <td>0</td>\n",
              "      <td>0</td>\n",
              "      <td>0</td>\n",
              "      <td>0</td>\n",
              "      <td>0</td>\n",
              "      <td>0</td>\n",
              "    </tr>\n",
              "  </tbody>\n",
              "</table>\n",
              "<p>700 rows × 3369 columns</p>\n",
              "</div>"
            ],
            "text/plain": [
              "     10  100  1000  100200  1012  105  10s  11  110  1134  ...  youthe  yr  \\\n",
              "0     0    0     0       0     0    0    0   0    0     0  ...       0   0   \n",
              "1     0    0     0       0     0    0    0   0    0     0  ...       0   0   \n",
              "2     0    0     0       0     0    0    0   0    0     0  ...       0   0   \n",
              "3     0    0     0       0     0    0    0   0    0     0  ...       0   0   \n",
              "4     0    0     0       0     0    0    0   0    0     0  ...       0   0   \n",
              "..   ..  ...   ...     ...   ...  ...  ...  ..  ...   ...  ...     ...  ..   \n",
              "695   0    0     0       0     0    0    0   0    0     0  ...       0   0   \n",
              "696   0    0     0       0     0    0    0   0    0     0  ...       0   0   \n",
              "697   0    0     0       0     0    0    0   0    0     0  ...       0   0   \n",
              "698   0    0     0       0     0    0    0   0    0     0  ...       0   0   \n",
              "699   0    0     0       0     0    0    0   0    0     0  ...       0   0   \n",
              "\n",
              "     zebra  zen  zero  zipper  zippered  ébr  款式好看  这双鞋尺码非常合适  \n",
              "0        0    0     0       0         0    0     0          0  \n",
              "1        0    0     0       0         0    0     0          0  \n",
              "2        0    0     0       0         0    0     0          0  \n",
              "3        0    0     0       0         0    0     0          0  \n",
              "4        0    0     0       0         0    0     0          0  \n",
              "..     ...  ...   ...     ...       ...  ...   ...        ...  \n",
              "695      0    0     0       0         0    0     0          0  \n",
              "696      0    0     0       0         0    0     0          0  \n",
              "697      0    0     0       0         0    0     0          0  \n",
              "698      0    0     0       0         0    0     0          0  \n",
              "699      0    0     0       0         0    0     0          0  \n",
              "\n",
              "[700 rows x 3369 columns]"
            ]
          },
          "execution_count": 25,
          "metadata": {},
          "output_type": "execute_result"
        }
      ],
      "source": [
        "bow1=pd.DataFrame(bow.toarray(),columns=vectorizer.get_feature_names())\n",
        "bow1"
      ]
    },
    {
      "cell_type": "code",
      "execution_count": null,
      "metadata": {
        "id": "XientjOEMc1p",
        "outputId": "23ab8051-ed0a-4397-dd05-a54d60bf254a"
      },
      "outputs": [
        {
          "data": {
            "text/html": [
              "<div>\n",
              "<style scoped>\n",
              "    .dataframe tbody tr th:only-of-type {\n",
              "        vertical-align: middle;\n",
              "    }\n",
              "\n",
              "    .dataframe tbody tr th {\n",
              "        vertical-align: top;\n",
              "    }\n",
              "\n",
              "    .dataframe thead th {\n",
              "        text-align: right;\n",
              "    }\n",
              "</style>\n",
              "<table border=\"1\" class=\"dataframe\">\n",
              "  <thead>\n",
              "    <tr style=\"text-align: right;\">\n",
              "      <th></th>\n",
              "      <th>N</th>\n",
              "      <th>Y</th>\n",
              "    </tr>\n",
              "  </thead>\n",
              "  <tbody>\n",
              "    <tr>\n",
              "      <th>0</th>\n",
              "      <td>0</td>\n",
              "      <td>1</td>\n",
              "    </tr>\n",
              "    <tr>\n",
              "      <th>1</th>\n",
              "      <td>1</td>\n",
              "      <td>0</td>\n",
              "    </tr>\n",
              "    <tr>\n",
              "      <th>2</th>\n",
              "      <td>0</td>\n",
              "      <td>1</td>\n",
              "    </tr>\n",
              "    <tr>\n",
              "      <th>3</th>\n",
              "      <td>1</td>\n",
              "      <td>0</td>\n",
              "    </tr>\n",
              "    <tr>\n",
              "      <th>4</th>\n",
              "      <td>1</td>\n",
              "      <td>0</td>\n",
              "    </tr>\n",
              "    <tr>\n",
              "      <th>...</th>\n",
              "      <td>...</td>\n",
              "      <td>...</td>\n",
              "    </tr>\n",
              "    <tr>\n",
              "      <th>695</th>\n",
              "      <td>0</td>\n",
              "      <td>1</td>\n",
              "    </tr>\n",
              "    <tr>\n",
              "      <th>696</th>\n",
              "      <td>0</td>\n",
              "      <td>1</td>\n",
              "    </tr>\n",
              "    <tr>\n",
              "      <th>697</th>\n",
              "      <td>0</td>\n",
              "      <td>1</td>\n",
              "    </tr>\n",
              "    <tr>\n",
              "      <th>698</th>\n",
              "      <td>0</td>\n",
              "      <td>1</td>\n",
              "    </tr>\n",
              "    <tr>\n",
              "      <th>699</th>\n",
              "      <td>0</td>\n",
              "      <td>1</td>\n",
              "    </tr>\n",
              "  </tbody>\n",
              "</table>\n",
              "<p>700 rows × 2 columns</p>\n",
              "</div>"
            ],
            "text/plain": [
              "     N  Y\n",
              "0    0  1\n",
              "1    1  0\n",
              "2    0  1\n",
              "3    1  0\n",
              "4    1  0\n",
              "..  .. ..\n",
              "695  0  1\n",
              "696  0  1\n",
              "697  0  1\n",
              "698  0  1\n",
              "699  0  1\n",
              "\n",
              "[700 rows x 2 columns]"
            ]
          },
          "execution_count": 26,
          "metadata": {},
          "output_type": "execute_result"
        }
      ],
      "source": [
        "VP=pd.get_dummies(test['VERIFIED_PURCHASE'])\n",
        "VP"
      ]
    },
    {
      "cell_type": "code",
      "execution_count": null,
      "metadata": {
        "id": "l-vSlVxXMc1p"
      },
      "outputs": [],
      "source": [
        "bow1[\"VERIFIED_PURCHASE\"]=VP[\"Y\"]\n",
        "bow1['Fake']=test['LABEL']"
      ]
    },
    {
      "cell_type": "code",
      "execution_count": null,
      "metadata": {
        "id": "MwXDyvdFMc1q",
        "outputId": "ad3a3f77-700e-4c55-ce27-e7a29569f7dd"
      },
      "outputs": [
        {
          "data": {
            "text/html": [
              "<div>\n",
              "<style scoped>\n",
              "    .dataframe tbody tr th:only-of-type {\n",
              "        vertical-align: middle;\n",
              "    }\n",
              "\n",
              "    .dataframe tbody tr th {\n",
              "        vertical-align: top;\n",
              "    }\n",
              "\n",
              "    .dataframe thead th {\n",
              "        text-align: right;\n",
              "    }\n",
              "</style>\n",
              "<table border=\"1\" class=\"dataframe\">\n",
              "  <thead>\n",
              "    <tr style=\"text-align: right;\">\n",
              "      <th></th>\n",
              "      <th>10</th>\n",
              "      <th>100</th>\n",
              "      <th>1000</th>\n",
              "      <th>100200</th>\n",
              "      <th>1012</th>\n",
              "      <th>105</th>\n",
              "      <th>10s</th>\n",
              "      <th>11</th>\n",
              "      <th>110</th>\n",
              "      <th>1134</th>\n",
              "      <th>...</th>\n",
              "      <th>zebra</th>\n",
              "      <th>zen</th>\n",
              "      <th>zero</th>\n",
              "      <th>zipper</th>\n",
              "      <th>zippered</th>\n",
              "      <th>ébr</th>\n",
              "      <th>款式好看</th>\n",
              "      <th>这双鞋尺码非常合适</th>\n",
              "      <th>VERIFIED_PURCHASE</th>\n",
              "      <th>Fake</th>\n",
              "    </tr>\n",
              "  </thead>\n",
              "  <tbody>\n",
              "    <tr>\n",
              "      <th>0</th>\n",
              "      <td>0</td>\n",
              "      <td>0</td>\n",
              "      <td>0</td>\n",
              "      <td>0</td>\n",
              "      <td>0</td>\n",
              "      <td>0</td>\n",
              "      <td>0</td>\n",
              "      <td>0</td>\n",
              "      <td>0</td>\n",
              "      <td>0</td>\n",
              "      <td>...</td>\n",
              "      <td>0</td>\n",
              "      <td>0</td>\n",
              "      <td>0</td>\n",
              "      <td>0</td>\n",
              "      <td>0</td>\n",
              "      <td>0</td>\n",
              "      <td>0</td>\n",
              "      <td>0</td>\n",
              "      <td>1</td>\n",
              "      <td>Fake</td>\n",
              "    </tr>\n",
              "    <tr>\n",
              "      <th>1</th>\n",
              "      <td>0</td>\n",
              "      <td>0</td>\n",
              "      <td>0</td>\n",
              "      <td>0</td>\n",
              "      <td>0</td>\n",
              "      <td>0</td>\n",
              "      <td>0</td>\n",
              "      <td>0</td>\n",
              "      <td>0</td>\n",
              "      <td>0</td>\n",
              "      <td>...</td>\n",
              "      <td>0</td>\n",
              "      <td>0</td>\n",
              "      <td>0</td>\n",
              "      <td>0</td>\n",
              "      <td>0</td>\n",
              "      <td>0</td>\n",
              "      <td>0</td>\n",
              "      <td>0</td>\n",
              "      <td>0</td>\n",
              "      <td>Fake</td>\n",
              "    </tr>\n",
              "    <tr>\n",
              "      <th>2</th>\n",
              "      <td>0</td>\n",
              "      <td>0</td>\n",
              "      <td>0</td>\n",
              "      <td>0</td>\n",
              "      <td>0</td>\n",
              "      <td>0</td>\n",
              "      <td>0</td>\n",
              "      <td>0</td>\n",
              "      <td>0</td>\n",
              "      <td>0</td>\n",
              "      <td>...</td>\n",
              "      <td>0</td>\n",
              "      <td>0</td>\n",
              "      <td>0</td>\n",
              "      <td>0</td>\n",
              "      <td>0</td>\n",
              "      <td>0</td>\n",
              "      <td>0</td>\n",
              "      <td>0</td>\n",
              "      <td>1</td>\n",
              "      <td>Fake</td>\n",
              "    </tr>\n",
              "    <tr>\n",
              "      <th>3</th>\n",
              "      <td>0</td>\n",
              "      <td>0</td>\n",
              "      <td>0</td>\n",
              "      <td>0</td>\n",
              "      <td>0</td>\n",
              "      <td>0</td>\n",
              "      <td>0</td>\n",
              "      <td>0</td>\n",
              "      <td>0</td>\n",
              "      <td>0</td>\n",
              "      <td>...</td>\n",
              "      <td>0</td>\n",
              "      <td>0</td>\n",
              "      <td>0</td>\n",
              "      <td>0</td>\n",
              "      <td>0</td>\n",
              "      <td>0</td>\n",
              "      <td>0</td>\n",
              "      <td>0</td>\n",
              "      <td>0</td>\n",
              "      <td>Fake</td>\n",
              "    </tr>\n",
              "    <tr>\n",
              "      <th>4</th>\n",
              "      <td>0</td>\n",
              "      <td>0</td>\n",
              "      <td>0</td>\n",
              "      <td>0</td>\n",
              "      <td>0</td>\n",
              "      <td>0</td>\n",
              "      <td>0</td>\n",
              "      <td>0</td>\n",
              "      <td>0</td>\n",
              "      <td>0</td>\n",
              "      <td>...</td>\n",
              "      <td>0</td>\n",
              "      <td>0</td>\n",
              "      <td>0</td>\n",
              "      <td>0</td>\n",
              "      <td>0</td>\n",
              "      <td>0</td>\n",
              "      <td>0</td>\n",
              "      <td>0</td>\n",
              "      <td>0</td>\n",
              "      <td>Fake</td>\n",
              "    </tr>\n",
              "    <tr>\n",
              "      <th>...</th>\n",
              "      <td>...</td>\n",
              "      <td>...</td>\n",
              "      <td>...</td>\n",
              "      <td>...</td>\n",
              "      <td>...</td>\n",
              "      <td>...</td>\n",
              "      <td>...</td>\n",
              "      <td>...</td>\n",
              "      <td>...</td>\n",
              "      <td>...</td>\n",
              "      <td>...</td>\n",
              "      <td>...</td>\n",
              "      <td>...</td>\n",
              "      <td>...</td>\n",
              "      <td>...</td>\n",
              "      <td>...</td>\n",
              "      <td>...</td>\n",
              "      <td>...</td>\n",
              "      <td>...</td>\n",
              "      <td>...</td>\n",
              "      <td>...</td>\n",
              "    </tr>\n",
              "    <tr>\n",
              "      <th>695</th>\n",
              "      <td>0</td>\n",
              "      <td>0</td>\n",
              "      <td>0</td>\n",
              "      <td>0</td>\n",
              "      <td>0</td>\n",
              "      <td>0</td>\n",
              "      <td>0</td>\n",
              "      <td>0</td>\n",
              "      <td>0</td>\n",
              "      <td>0</td>\n",
              "      <td>...</td>\n",
              "      <td>0</td>\n",
              "      <td>0</td>\n",
              "      <td>0</td>\n",
              "      <td>0</td>\n",
              "      <td>0</td>\n",
              "      <td>0</td>\n",
              "      <td>0</td>\n",
              "      <td>0</td>\n",
              "      <td>1</td>\n",
              "      <td>Real</td>\n",
              "    </tr>\n",
              "    <tr>\n",
              "      <th>696</th>\n",
              "      <td>0</td>\n",
              "      <td>0</td>\n",
              "      <td>0</td>\n",
              "      <td>0</td>\n",
              "      <td>0</td>\n",
              "      <td>0</td>\n",
              "      <td>0</td>\n",
              "      <td>0</td>\n",
              "      <td>0</td>\n",
              "      <td>0</td>\n",
              "      <td>...</td>\n",
              "      <td>0</td>\n",
              "      <td>0</td>\n",
              "      <td>0</td>\n",
              "      <td>0</td>\n",
              "      <td>0</td>\n",
              "      <td>0</td>\n",
              "      <td>0</td>\n",
              "      <td>0</td>\n",
              "      <td>1</td>\n",
              "      <td>Real</td>\n",
              "    </tr>\n",
              "    <tr>\n",
              "      <th>697</th>\n",
              "      <td>0</td>\n",
              "      <td>0</td>\n",
              "      <td>0</td>\n",
              "      <td>0</td>\n",
              "      <td>0</td>\n",
              "      <td>0</td>\n",
              "      <td>0</td>\n",
              "      <td>0</td>\n",
              "      <td>0</td>\n",
              "      <td>0</td>\n",
              "      <td>...</td>\n",
              "      <td>0</td>\n",
              "      <td>0</td>\n",
              "      <td>0</td>\n",
              "      <td>0</td>\n",
              "      <td>0</td>\n",
              "      <td>0</td>\n",
              "      <td>0</td>\n",
              "      <td>0</td>\n",
              "      <td>1</td>\n",
              "      <td>Real</td>\n",
              "    </tr>\n",
              "    <tr>\n",
              "      <th>698</th>\n",
              "      <td>0</td>\n",
              "      <td>0</td>\n",
              "      <td>0</td>\n",
              "      <td>0</td>\n",
              "      <td>0</td>\n",
              "      <td>0</td>\n",
              "      <td>0</td>\n",
              "      <td>0</td>\n",
              "      <td>0</td>\n",
              "      <td>0</td>\n",
              "      <td>...</td>\n",
              "      <td>0</td>\n",
              "      <td>0</td>\n",
              "      <td>0</td>\n",
              "      <td>0</td>\n",
              "      <td>0</td>\n",
              "      <td>0</td>\n",
              "      <td>0</td>\n",
              "      <td>0</td>\n",
              "      <td>1</td>\n",
              "      <td>Real</td>\n",
              "    </tr>\n",
              "    <tr>\n",
              "      <th>699</th>\n",
              "      <td>0</td>\n",
              "      <td>0</td>\n",
              "      <td>0</td>\n",
              "      <td>0</td>\n",
              "      <td>0</td>\n",
              "      <td>0</td>\n",
              "      <td>0</td>\n",
              "      <td>0</td>\n",
              "      <td>0</td>\n",
              "      <td>0</td>\n",
              "      <td>...</td>\n",
              "      <td>0</td>\n",
              "      <td>0</td>\n",
              "      <td>0</td>\n",
              "      <td>0</td>\n",
              "      <td>0</td>\n",
              "      <td>0</td>\n",
              "      <td>0</td>\n",
              "      <td>0</td>\n",
              "      <td>1</td>\n",
              "      <td>Real</td>\n",
              "    </tr>\n",
              "  </tbody>\n",
              "</table>\n",
              "<p>700 rows × 3371 columns</p>\n",
              "</div>"
            ],
            "text/plain": [
              "     10  100  1000  100200  1012  105  10s  11  110  1134  ...  zebra  zen  \\\n",
              "0     0    0     0       0     0    0    0   0    0     0  ...      0    0   \n",
              "1     0    0     0       0     0    0    0   0    0     0  ...      0    0   \n",
              "2     0    0     0       0     0    0    0   0    0     0  ...      0    0   \n",
              "3     0    0     0       0     0    0    0   0    0     0  ...      0    0   \n",
              "4     0    0     0       0     0    0    0   0    0     0  ...      0    0   \n",
              "..   ..  ...   ...     ...   ...  ...  ...  ..  ...   ...  ...    ...  ...   \n",
              "695   0    0     0       0     0    0    0   0    0     0  ...      0    0   \n",
              "696   0    0     0       0     0    0    0   0    0     0  ...      0    0   \n",
              "697   0    0     0       0     0    0    0   0    0     0  ...      0    0   \n",
              "698   0    0     0       0     0    0    0   0    0     0  ...      0    0   \n",
              "699   0    0     0       0     0    0    0   0    0     0  ...      0    0   \n",
              "\n",
              "     zero  zipper  zippered  ébr  款式好看  这双鞋尺码非常合适  VERIFIED_PURCHASE  Fake  \n",
              "0       0       0         0    0     0          0                  1  Fake  \n",
              "1       0       0         0    0     0          0                  0  Fake  \n",
              "2       0       0         0    0     0          0                  1  Fake  \n",
              "3       0       0         0    0     0          0                  0  Fake  \n",
              "4       0       0         0    0     0          0                  0  Fake  \n",
              "..    ...     ...       ...  ...   ...        ...                ...   ...  \n",
              "695     0       0         0    0     0          0                  1  Real  \n",
              "696     0       0         0    0     0          0                  1  Real  \n",
              "697     0       0         0    0     0          0                  1  Real  \n",
              "698     0       0         0    0     0          0                  1  Real  \n",
              "699     0       0         0    0     0          0                  1  Real  \n",
              "\n",
              "[700 rows x 3371 columns]"
            ]
          },
          "execution_count": 28,
          "metadata": {},
          "output_type": "execute_result"
        }
      ],
      "source": [
        "bow1"
      ]
    },
    {
      "cell_type": "markdown",
      "metadata": {
        "id": "cDGzYzgNMc1q"
      },
      "source": [
        "# Module 5: Random Forest Classifier:\n",
        "Random Forest Classifier: A random forest is a meta estimator that fits a number of decision tree classifiers on various sub-samples of the dataset and uses averaging to improve the predictive accuracy and control over-fitting."
      ]
    },
    {
      "cell_type": "code",
      "execution_count": null,
      "metadata": {
        "id": "TmGgExDzMc1q"
      },
      "outputs": [],
      "source": [
        "X=bow1.drop('Fake',axis=1)\n",
        "y=bow1['Fake']"
      ]
    },
    {
      "cell_type": "code",
      "execution_count": null,
      "metadata": {
        "id": "t7Af5WKDMc1q"
      },
      "outputs": [],
      "source": [
        "X_train, X_test, y_train, y_test = train_test_split(X, y, test_size=0.3,random_state=101)"
      ]
    },
    {
      "cell_type": "code",
      "execution_count": null,
      "metadata": {
        "id": "uQjaVwpmMc1q"
      },
      "outputs": [],
      "source": [
        "rd=RandomForestClassifier(n_estimators=200)"
      ]
    },
    {
      "cell_type": "code",
      "execution_count": null,
      "metadata": {
        "id": "VZja0UoMMc1r",
        "outputId": "ef3b5b64-590d-4833-a3de-63cf07d14fa1"
      },
      "outputs": [
        {
          "data": {
            "text/plain": [
              "RandomForestClassifier(bootstrap=True, ccp_alpha=0.0, class_weight=None,\n",
              "                       criterion='gini', max_depth=None, max_features='auto',\n",
              "                       max_leaf_nodes=None, max_samples=None,\n",
              "                       min_impurity_decrease=0.0, min_impurity_split=None,\n",
              "                       min_samples_leaf=1, min_samples_split=2,\n",
              "                       min_weight_fraction_leaf=0.0, n_estimators=200,\n",
              "                       n_jobs=None, oob_score=False, random_state=None,\n",
              "                       verbose=0, warm_start=False)"
            ]
          },
          "execution_count": 32,
          "metadata": {},
          "output_type": "execute_result"
        }
      ],
      "source": [
        "rd.fit(X_train,y_train)"
      ]
    },
    {
      "cell_type": "code",
      "execution_count": null,
      "metadata": {
        "id": "3sRLccbgMc1r"
      },
      "outputs": [],
      "source": [
        "predpipe=rd.predict(X_test)"
      ]
    },
    {
      "cell_type": "code",
      "execution_count": null,
      "metadata": {
        "id": "EaMDLC2LMc1r",
        "outputId": "0ec8fd55-a60c-4e49-a01e-499ce893fc02"
      },
      "outputs": [
        {
          "name": "stdout",
          "output_type": "stream",
          "text": [
            "[[102  14]\n",
            " [  7  87]]\n",
            "\n",
            "\n",
            "              precision    recall  f1-score   support\n",
            "\n",
            "        Fake       0.94      0.88      0.91       116\n",
            "        Real       0.86      0.93      0.89        94\n",
            "\n",
            "    accuracy                           0.90       210\n",
            "   macro avg       0.90      0.90      0.90       210\n",
            "weighted avg       0.90      0.90      0.90       210\n",
            "\n"
          ]
        }
      ],
      "source": [
        "print(confusion_matrix(y_test,predpipe))\n",
        "print('\\n')\n",
        "print(classification_report(y_test,predpipe))"
      ]
    },
    {
      "cell_type": "code",
      "execution_count": null,
      "metadata": {
        "id": "rBceSNEVMc1r",
        "outputId": "707ab42e-e86d-4634-f77b-f3d7c1de8fcb"
      },
      "outputs": [
        {
          "data": {
            "text/html": [
              "<div>\n",
              "<style scoped>\n",
              "    .dataframe tbody tr th:only-of-type {\n",
              "        vertical-align: middle;\n",
              "    }\n",
              "\n",
              "    .dataframe tbody tr th {\n",
              "        vertical-align: top;\n",
              "    }\n",
              "\n",
              "    .dataframe thead th {\n",
              "        text-align: right;\n",
              "    }\n",
              "</style>\n",
              "<table border=\"1\" class=\"dataframe\">\n",
              "  <thead>\n",
              "    <tr style=\"text-align: right;\">\n",
              "      <th></th>\n",
              "      <th>10</th>\n",
              "      <th>100</th>\n",
              "      <th>1000</th>\n",
              "      <th>100200</th>\n",
              "      <th>1012</th>\n",
              "      <th>105</th>\n",
              "      <th>10s</th>\n",
              "      <th>11</th>\n",
              "      <th>110</th>\n",
              "      <th>1134</th>\n",
              "      <th>...</th>\n",
              "      <th>yr</th>\n",
              "      <th>zebra</th>\n",
              "      <th>zen</th>\n",
              "      <th>zero</th>\n",
              "      <th>zipper</th>\n",
              "      <th>zippered</th>\n",
              "      <th>ébr</th>\n",
              "      <th>款式好看</th>\n",
              "      <th>这双鞋尺码非常合适</th>\n",
              "      <th>VERIFIED_PURCHASE</th>\n",
              "    </tr>\n",
              "  </thead>\n",
              "  <tbody>\n",
              "    <tr>\n",
              "      <th>529</th>\n",
              "      <td>0</td>\n",
              "      <td>0</td>\n",
              "      <td>0</td>\n",
              "      <td>0</td>\n",
              "      <td>0</td>\n",
              "      <td>0</td>\n",
              "      <td>0</td>\n",
              "      <td>0</td>\n",
              "      <td>0</td>\n",
              "      <td>0</td>\n",
              "      <td>...</td>\n",
              "      <td>0</td>\n",
              "      <td>0</td>\n",
              "      <td>0</td>\n",
              "      <td>0</td>\n",
              "      <td>0</td>\n",
              "      <td>0</td>\n",
              "      <td>0</td>\n",
              "      <td>0</td>\n",
              "      <td>0</td>\n",
              "      <td>1</td>\n",
              "    </tr>\n",
              "    <tr>\n",
              "      <th>321</th>\n",
              "      <td>0</td>\n",
              "      <td>0</td>\n",
              "      <td>0</td>\n",
              "      <td>0</td>\n",
              "      <td>0</td>\n",
              "      <td>0</td>\n",
              "      <td>0</td>\n",
              "      <td>0</td>\n",
              "      <td>0</td>\n",
              "      <td>0</td>\n",
              "      <td>...</td>\n",
              "      <td>0</td>\n",
              "      <td>0</td>\n",
              "      <td>0</td>\n",
              "      <td>0</td>\n",
              "      <td>0</td>\n",
              "      <td>0</td>\n",
              "      <td>0</td>\n",
              "      <td>0</td>\n",
              "      <td>0</td>\n",
              "      <td>0</td>\n",
              "    </tr>\n",
              "    <tr>\n",
              "      <th>84</th>\n",
              "      <td>0</td>\n",
              "      <td>0</td>\n",
              "      <td>0</td>\n",
              "      <td>0</td>\n",
              "      <td>0</td>\n",
              "      <td>0</td>\n",
              "      <td>0</td>\n",
              "      <td>0</td>\n",
              "      <td>0</td>\n",
              "      <td>0</td>\n",
              "      <td>...</td>\n",
              "      <td>0</td>\n",
              "      <td>0</td>\n",
              "      <td>0</td>\n",
              "      <td>0</td>\n",
              "      <td>0</td>\n",
              "      <td>0</td>\n",
              "      <td>0</td>\n",
              "      <td>0</td>\n",
              "      <td>0</td>\n",
              "      <td>0</td>\n",
              "    </tr>\n",
              "    <tr>\n",
              "      <th>74</th>\n",
              "      <td>0</td>\n",
              "      <td>0</td>\n",
              "      <td>0</td>\n",
              "      <td>0</td>\n",
              "      <td>0</td>\n",
              "      <td>0</td>\n",
              "      <td>0</td>\n",
              "      <td>0</td>\n",
              "      <td>0</td>\n",
              "      <td>0</td>\n",
              "      <td>...</td>\n",
              "      <td>0</td>\n",
              "      <td>0</td>\n",
              "      <td>0</td>\n",
              "      <td>0</td>\n",
              "      <td>0</td>\n",
              "      <td>0</td>\n",
              "      <td>0</td>\n",
              "      <td>0</td>\n",
              "      <td>0</td>\n",
              "      <td>0</td>\n",
              "    </tr>\n",
              "    <tr>\n",
              "      <th>346</th>\n",
              "      <td>0</td>\n",
              "      <td>0</td>\n",
              "      <td>0</td>\n",
              "      <td>0</td>\n",
              "      <td>0</td>\n",
              "      <td>0</td>\n",
              "      <td>0</td>\n",
              "      <td>0</td>\n",
              "      <td>0</td>\n",
              "      <td>0</td>\n",
              "      <td>...</td>\n",
              "      <td>0</td>\n",
              "      <td>0</td>\n",
              "      <td>0</td>\n",
              "      <td>0</td>\n",
              "      <td>0</td>\n",
              "      <td>0</td>\n",
              "      <td>0</td>\n",
              "      <td>0</td>\n",
              "      <td>0</td>\n",
              "      <td>0</td>\n",
              "    </tr>\n",
              "    <tr>\n",
              "      <th>...</th>\n",
              "      <td>...</td>\n",
              "      <td>...</td>\n",
              "      <td>...</td>\n",
              "      <td>...</td>\n",
              "      <td>...</td>\n",
              "      <td>...</td>\n",
              "      <td>...</td>\n",
              "      <td>...</td>\n",
              "      <td>...</td>\n",
              "      <td>...</td>\n",
              "      <td>...</td>\n",
              "      <td>...</td>\n",
              "      <td>...</td>\n",
              "      <td>...</td>\n",
              "      <td>...</td>\n",
              "      <td>...</td>\n",
              "      <td>...</td>\n",
              "      <td>...</td>\n",
              "      <td>...</td>\n",
              "      <td>...</td>\n",
              "      <td>...</td>\n",
              "    </tr>\n",
              "    <tr>\n",
              "      <th>633</th>\n",
              "      <td>0</td>\n",
              "      <td>0</td>\n",
              "      <td>0</td>\n",
              "      <td>0</td>\n",
              "      <td>0</td>\n",
              "      <td>0</td>\n",
              "      <td>0</td>\n",
              "      <td>0</td>\n",
              "      <td>0</td>\n",
              "      <td>0</td>\n",
              "      <td>...</td>\n",
              "      <td>0</td>\n",
              "      <td>0</td>\n",
              "      <td>0</td>\n",
              "      <td>0</td>\n",
              "      <td>0</td>\n",
              "      <td>0</td>\n",
              "      <td>0</td>\n",
              "      <td>0</td>\n",
              "      <td>0</td>\n",
              "      <td>0</td>\n",
              "    </tr>\n",
              "    <tr>\n",
              "      <th>171</th>\n",
              "      <td>0</td>\n",
              "      <td>0</td>\n",
              "      <td>0</td>\n",
              "      <td>0</td>\n",
              "      <td>0</td>\n",
              "      <td>0</td>\n",
              "      <td>0</td>\n",
              "      <td>0</td>\n",
              "      <td>0</td>\n",
              "      <td>0</td>\n",
              "      <td>...</td>\n",
              "      <td>0</td>\n",
              "      <td>0</td>\n",
              "      <td>0</td>\n",
              "      <td>0</td>\n",
              "      <td>1</td>\n",
              "      <td>0</td>\n",
              "      <td>0</td>\n",
              "      <td>0</td>\n",
              "      <td>0</td>\n",
              "      <td>0</td>\n",
              "    </tr>\n",
              "    <tr>\n",
              "      <th>372</th>\n",
              "      <td>0</td>\n",
              "      <td>0</td>\n",
              "      <td>0</td>\n",
              "      <td>0</td>\n",
              "      <td>0</td>\n",
              "      <td>0</td>\n",
              "      <td>0</td>\n",
              "      <td>0</td>\n",
              "      <td>0</td>\n",
              "      <td>0</td>\n",
              "      <td>...</td>\n",
              "      <td>0</td>\n",
              "      <td>0</td>\n",
              "      <td>0</td>\n",
              "      <td>0</td>\n",
              "      <td>0</td>\n",
              "      <td>0</td>\n",
              "      <td>0</td>\n",
              "      <td>0</td>\n",
              "      <td>0</td>\n",
              "      <td>1</td>\n",
              "    </tr>\n",
              "    <tr>\n",
              "      <th>683</th>\n",
              "      <td>0</td>\n",
              "      <td>0</td>\n",
              "      <td>0</td>\n",
              "      <td>0</td>\n",
              "      <td>0</td>\n",
              "      <td>0</td>\n",
              "      <td>0</td>\n",
              "      <td>0</td>\n",
              "      <td>0</td>\n",
              "      <td>0</td>\n",
              "      <td>...</td>\n",
              "      <td>0</td>\n",
              "      <td>0</td>\n",
              "      <td>0</td>\n",
              "      <td>0</td>\n",
              "      <td>0</td>\n",
              "      <td>0</td>\n",
              "      <td>0</td>\n",
              "      <td>0</td>\n",
              "      <td>0</td>\n",
              "      <td>1</td>\n",
              "    </tr>\n",
              "    <tr>\n",
              "      <th>389</th>\n",
              "      <td>0</td>\n",
              "      <td>0</td>\n",
              "      <td>0</td>\n",
              "      <td>0</td>\n",
              "      <td>0</td>\n",
              "      <td>0</td>\n",
              "      <td>0</td>\n",
              "      <td>0</td>\n",
              "      <td>0</td>\n",
              "      <td>0</td>\n",
              "      <td>...</td>\n",
              "      <td>0</td>\n",
              "      <td>0</td>\n",
              "      <td>0</td>\n",
              "      <td>0</td>\n",
              "      <td>0</td>\n",
              "      <td>0</td>\n",
              "      <td>0</td>\n",
              "      <td>0</td>\n",
              "      <td>0</td>\n",
              "      <td>1</td>\n",
              "    </tr>\n",
              "  </tbody>\n",
              "</table>\n",
              "<p>210 rows × 3370 columns</p>\n",
              "</div>"
            ],
            "text/plain": [
              "     10  100  1000  100200  1012  105  10s  11  110  1134  ...  yr  zebra  \\\n",
              "529   0    0     0       0     0    0    0   0    0     0  ...   0      0   \n",
              "321   0    0     0       0     0    0    0   0    0     0  ...   0      0   \n",
              "84    0    0     0       0     0    0    0   0    0     0  ...   0      0   \n",
              "74    0    0     0       0     0    0    0   0    0     0  ...   0      0   \n",
              "346   0    0     0       0     0    0    0   0    0     0  ...   0      0   \n",
              "..   ..  ...   ...     ...   ...  ...  ...  ..  ...   ...  ...  ..    ...   \n",
              "633   0    0     0       0     0    0    0   0    0     0  ...   0      0   \n",
              "171   0    0     0       0     0    0    0   0    0     0  ...   0      0   \n",
              "372   0    0     0       0     0    0    0   0    0     0  ...   0      0   \n",
              "683   0    0     0       0     0    0    0   0    0     0  ...   0      0   \n",
              "389   0    0     0       0     0    0    0   0    0     0  ...   0      0   \n",
              "\n",
              "     zen  zero  zipper  zippered  ébr  款式好看  这双鞋尺码非常合适  VERIFIED_PURCHASE  \n",
              "529    0     0       0         0    0     0          0                  1  \n",
              "321    0     0       0         0    0     0          0                  0  \n",
              "84     0     0       0         0    0     0          0                  0  \n",
              "74     0     0       0         0    0     0          0                  0  \n",
              "346    0     0       0         0    0     0          0                  0  \n",
              "..   ...   ...     ...       ...  ...   ...        ...                ...  \n",
              "633    0     0       0         0    0     0          0                  0  \n",
              "171    0     0       1         0    0     0          0                  0  \n",
              "372    0     0       0         0    0     0          0                  1  \n",
              "683    0     0       0         0    0     0          0                  1  \n",
              "389    0     0       0         0    0     0          0                  1  \n",
              "\n",
              "[210 rows x 3370 columns]"
            ]
          },
          "execution_count": 35,
          "metadata": {},
          "output_type": "execute_result"
        }
      ],
      "source": [
        "X_test"
      ]
    },
    {
      "cell_type": "code",
      "execution_count": null,
      "metadata": {
        "id": "6c7dGstpMc1s",
        "outputId": "b3f09c44-6c7e-489e-90ea-c3fefc6fdf01"
      },
      "outputs": [
        {
          "data": {
            "text/plain": [
              "array(['Real'], dtype=object)"
            ]
          },
          "execution_count": 36,
          "metadata": {},
          "output_type": "execute_result"
        }
      ],
      "source": [
        "predpipe=rd.predict(X_test.iloc[[0]])\n",
        "predpipe"
      ]
    }
  ],
  "metadata": {
    "kernelspec": {
      "display_name": "Python 3",
      "language": "python",
      "name": "python3"
    },
    "language_info": {
      "codemirror_mode": {
        "name": "ipython",
        "version": 3
      },
      "file_extension": ".py",
      "mimetype": "text/x-python",
      "name": "python",
      "nbconvert_exporter": "python",
      "pygments_lexer": "ipython3",
      "version": "3.7.6"
    },
    "colab": {
      "provenance": []
    }
  },
  "nbformat": 4,
  "nbformat_minor": 0
}